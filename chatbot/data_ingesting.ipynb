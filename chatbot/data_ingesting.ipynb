{
 "cells": [
  {
   "cell_type": "markdown",
   "metadata": {},
   "source": [
    "### Installation"
   ]
  },
  {
   "cell_type": "code",
   "execution_count": null,
   "metadata": {},
   "outputs": [],
   "source": [
    "!pip install langchain-qdrant qdrant-client langchain-openai"
   ]
  },
  {
   "cell_type": "markdown",
   "metadata": {},
   "source": [
    "## Basic Imports"
   ]
  },
  {
   "cell_type": "code",
   "execution_count": 2,
   "metadata": {},
   "outputs": [],
   "source": [
    "import pandas as pd\n",
    "from langchain_core.documents import Document"
   ]
  },
  {
   "cell_type": "markdown",
   "metadata": {},
   "source": [
    "#### Read Dataframe"
   ]
  },
  {
   "cell_type": "code",
   "execution_count": 3,
   "metadata": {},
   "outputs": [],
   "source": [
    "df = pd.read_csv('../data/cleaned_data.csv')"
   ]
  },
  {
   "cell_type": "code",
   "execution_count": 4,
   "metadata": {},
   "outputs": [
    {
     "data": {
      "text/html": [
       "<div>\n",
       "<style scoped>\n",
       "    .dataframe tbody tr th:only-of-type {\n",
       "        vertical-align: middle;\n",
       "    }\n",
       "\n",
       "    .dataframe tbody tr th {\n",
       "        vertical-align: top;\n",
       "    }\n",
       "\n",
       "    .dataframe thead th {\n",
       "        text-align: right;\n",
       "    }\n",
       "</style>\n",
       "<table border=\"1\" class=\"dataframe\">\n",
       "  <thead>\n",
       "    <tr style=\"text-align: right;\">\n",
       "      <th></th>\n",
       "      <th>Disease</th>\n",
       "      <th>Description</th>\n",
       "      <th>Immediate Action</th>\n",
       "      <th>Medical Advice</th>\n",
       "      <th>Dietary Guidance</th>\n",
       "      <th>Long-term Management</th>\n",
       "      <th>prepared_text</th>\n",
       "    </tr>\n",
       "  </thead>\n",
       "  <tbody>\n",
       "    <tr>\n",
       "      <th>0</th>\n",
       "      <td>Malaria</td>\n",
       "      <td>An infectious disease caused by protozoan para...</td>\n",
       "      <td>Consult nearest hospital</td>\n",
       "      <td>avoid oily food</td>\n",
       "      <td>avoid non veg food</td>\n",
       "      <td>keep mosquitos out</td>\n",
       "      <td>Disease: Malaria Description: An infectious di...</td>\n",
       "    </tr>\n",
       "    <tr>\n",
       "      <th>1</th>\n",
       "      <td>Allergy</td>\n",
       "      <td>An allergy is an immune system response to a f...</td>\n",
       "      <td>apply calamine</td>\n",
       "      <td>cover area with bandage</td>\n",
       "      <td>NaN</td>\n",
       "      <td>use ice to compress itching</td>\n",
       "      <td>Disease: Allergy Description: An allergy is an...</td>\n",
       "    </tr>\n",
       "    <tr>\n",
       "      <th>2</th>\n",
       "      <td>Hypothyroidism</td>\n",
       "      <td>Hypothyroidism, also called underactive thyroi...</td>\n",
       "      <td>reduce stress</td>\n",
       "      <td>exercise</td>\n",
       "      <td>eat healthy</td>\n",
       "      <td>get proper sleep</td>\n",
       "      <td>Disease: Hypothyroidism Description: Hypothyro...</td>\n",
       "    </tr>\n",
       "    <tr>\n",
       "      <th>3</th>\n",
       "      <td>Psoriasis</td>\n",
       "      <td>Psoriasis is a common skin disorder that forms...</td>\n",
       "      <td>wash hands with warm soapy water</td>\n",
       "      <td>stop bleeding using pressure</td>\n",
       "      <td>consult doctor</td>\n",
       "      <td>salt baths</td>\n",
       "      <td>Disease: Psoriasis Description: Psoriasis is a...</td>\n",
       "    </tr>\n",
       "    <tr>\n",
       "      <th>4</th>\n",
       "      <td>GERD</td>\n",
       "      <td>Gastroesophageal reflux disease, or GERD, is a...</td>\n",
       "      <td>avoid fatty spicy food</td>\n",
       "      <td>avoid lying down after eating</td>\n",
       "      <td>maintain healthy weight</td>\n",
       "      <td>exercise</td>\n",
       "      <td>Disease: GERD Description: Gastroesophageal re...</td>\n",
       "    </tr>\n",
       "  </tbody>\n",
       "</table>\n",
       "</div>"
      ],
      "text/plain": [
       "          Disease                                        Description  \\\n",
       "0         Malaria  An infectious disease caused by protozoan para...   \n",
       "1         Allergy  An allergy is an immune system response to a f...   \n",
       "2  Hypothyroidism  Hypothyroidism, also called underactive thyroi...   \n",
       "3       Psoriasis  Psoriasis is a common skin disorder that forms...   \n",
       "4            GERD  Gastroesophageal reflux disease, or GERD, is a...   \n",
       "\n",
       "                   Immediate Action                 Medical Advice  \\\n",
       "0          Consult nearest hospital                avoid oily food   \n",
       "1                    apply calamine        cover area with bandage   \n",
       "2                     reduce stress                       exercise   \n",
       "3  wash hands with warm soapy water   stop bleeding using pressure   \n",
       "4            avoid fatty spicy food  avoid lying down after eating   \n",
       "\n",
       "          Dietary Guidance         Long-term Management  \\\n",
       "0       avoid non veg food           keep mosquitos out   \n",
       "1                      NaN  use ice to compress itching   \n",
       "2              eat healthy             get proper sleep   \n",
       "3           consult doctor                   salt baths   \n",
       "4  maintain healthy weight                     exercise   \n",
       "\n",
       "                                       prepared_text  \n",
       "0  Disease: Malaria Description: An infectious di...  \n",
       "1  Disease: Allergy Description: An allergy is an...  \n",
       "2  Disease: Hypothyroidism Description: Hypothyro...  \n",
       "3  Disease: Psoriasis Description: Psoriasis is a...  \n",
       "4  Disease: GERD Description: Gastroesophageal re...  "
      ]
     },
     "execution_count": 4,
     "metadata": {},
     "output_type": "execute_result"
    }
   ],
   "source": [
    "df.head()"
   ]
  },
  {
   "cell_type": "markdown",
   "metadata": {},
   "source": [
    "#### Creating LangChain Documents"
   ]
  },
  {
   "cell_type": "code",
   "execution_count": 5,
   "metadata": {},
   "outputs": [],
   "source": [
    "documents = []\n",
    "\n",
    "for index, row in df.iterrows():\n",
    "    document = Document(\n",
    "        page_content=row[\"prepared_text\"],\n",
    "        metadata={\"Disease\": row[\"Disease\"]}\n",
    "    )\n",
    "    documents.append(document)"
   ]
  },
  {
   "cell_type": "code",
   "execution_count": 6,
   "metadata": {},
   "outputs": [
    {
     "data": {
      "text/plain": [
       "37"
      ]
     },
     "execution_count": 6,
     "metadata": {},
     "output_type": "execute_result"
    }
   ],
   "source": [
    "len(documents)"
   ]
  },
  {
   "cell_type": "markdown",
   "metadata": {},
   "source": [
    "#### Document UUID"
   ]
  },
  {
   "cell_type": "code",
   "execution_count": 7,
   "metadata": {},
   "outputs": [],
   "source": [
    "from uuid import uuid4\n",
    "uuids = [str(uuid4()) for _ in range(len(documents))]"
   ]
  },
  {
   "cell_type": "markdown",
   "metadata": {},
   "source": [
    "#### Connecting To Qdrant"
   ]
  },
  {
   "cell_type": "code",
   "execution_count": 12,
   "metadata": {},
   "outputs": [
    {
     "name": "stdout",
     "output_type": "stream",
     "text": [
      "The dotenv extension is already loaded. To reload it, use:\n",
      "  %reload_ext dotenv\n"
     ]
    }
   ],
   "source": [
    "from qdrant_client import QdrantClient\n",
    "from dotenv import load_dotenv\n",
    "import os\n",
    "\n",
    "%load_ext dotenv\n",
    "%dotenv"
   ]
  },
  {
   "cell_type": "code",
   "execution_count": 13,
   "metadata": {},
   "outputs": [],
   "source": [
    "qdrant_client = QdrantClient(\n",
    "    api_key=os.getenv(\"QDRANT_API_KEY\"),\n",
    "    url=os.getenv(\"QDRANT_URL\")\n",
    ")"
   ]
  },
  {
   "cell_type": "code",
   "execution_count": 15,
   "metadata": {},
   "outputs": [
    {
     "data": {
      "text/plain": [
       "CollectionsResponse(collections=[CollectionDescription(name='6fab1c82b511defb65fa617773341ebe'), CollectionDescription(name='14a7cfe4b7e62d0e7f29d462eb8da5b4'), CollectionDescription(name='fe65eeca69c53a5905e508bb6f41b974'), CollectionDescription(name='7aa03e9d29a1b8371f9b454f44e3e6bd')])"
      ]
     },
     "execution_count": 15,
     "metadata": {},
     "output_type": "execute_result"
    }
   ],
   "source": [
    "qdrant_client.get_collections()"
   ]
  },
  {
   "cell_type": "markdown",
   "metadata": {},
   "source": [
    "#### Creating New Collection"
   ]
  },
  {
   "cell_type": "code",
   "execution_count": 17,
   "metadata": {},
   "outputs": [],
   "source": [
    "from qdrant_client.http.models import Distance, VectorParams"
   ]
  },
  {
   "cell_type": "code",
   "execution_count": 18,
   "metadata": {},
   "outputs": [],
   "source": [
    "COLLECTION_NAME =\"healthcare_collection\""
   ]
  },
  {
   "cell_type": "code",
   "execution_count": 19,
   "metadata": {},
   "outputs": [
    {
     "data": {
      "text/plain": [
       "True"
      ]
     },
     "execution_count": 19,
     "metadata": {},
     "output_type": "execute_result"
    }
   ],
   "source": [
    "qdrant_client.create_collection(\n",
    "    collection_name=COLLECTION_NAME,\n",
    "    vectors_config=VectorParams(\n",
    "        size=os.getenv(\"QDRANT_VECTOR_DIMENSION\", 1536), \n",
    "        distance=Distance.COSINE),\n",
    ")"
   ]
  },
  {
   "cell_type": "markdown",
   "metadata": {},
   "source": [
    "#### Connecting To Vector Store"
   ]
  },
  {
   "cell_type": "code",
   "execution_count": 23,
   "metadata": {},
   "outputs": [],
   "source": [
    "from langchain_qdrant import QdrantVectorStore\n",
    "from langchain_openai import OpenAIEmbeddings\n",
    "\n",
    "embedding_model = OpenAIEmbeddings(\n",
    "    model=os.getenv(\"EMBEDDING_MODEL\", \n",
    "                    default=\"text-embedding-3-small\"\n",
    "                )\n",
    ")"
   ]
  },
  {
   "cell_type": "code",
   "execution_count": 24,
   "metadata": {},
   "outputs": [],
   "source": [
    "vector_store = QdrantVectorStore(\n",
    "    client=qdrant_client,\n",
    "    collection_name=COLLECTION_NAME,\n",
    "    embedding=embedding_model,\n",
    "    # retrieval_mode=RetrievalMode.DENSE\n",
    ")"
   ]
  },
  {
   "cell_type": "code",
   "execution_count": null,
   "metadata": {},
   "outputs": [],
   "source": [
    "vector_store.add_documents(documents=documents, ids=uuids)"
   ]
  },
  {
   "cell_type": "markdown",
   "metadata": {},
   "source": [
    "#### Quering Vector Store"
   ]
  },
  {
   "cell_type": "code",
   "execution_count": 26,
   "metadata": {},
   "outputs": [],
   "source": [
    "query = \"What is malaria?\""
   ]
  },
  {
   "cell_type": "code",
   "execution_count": 27,
   "metadata": {},
   "outputs": [],
   "source": [
    "results = vector_store.similarity_search(\n",
    "    query, k=2\n",
    ")"
   ]
  },
  {
   "cell_type": "code",
   "execution_count": 28,
   "metadata": {},
   "outputs": [
    {
     "data": {
      "text/plain": [
       "[Document(metadata={'Disease': 'Malaria', '_id': '1497e650-06e7-458c-a542-9f8815e7303f', '_collection_name': 'healthcare_collection'}, page_content='Disease: Malaria Description: An infectious disease caused by protozoan parasites from the Plasmodium family that can be transmitted by the bite of the Anopheles mosquito or by a contaminated needle or transfusion. Falciparum malaria is the most deadly type. Immediate Action: Consult nearest hospital Medical Advice: avoid oily food Dietary Guidance: avoid non veg food Long-term Management: keep mosquitos out'),\n",
       " Document(metadata={'Disease': 'Dengue', '_id': '8320500c-c4d2-4143-9263-83fbd5e4170b', '_collection_name': 'healthcare_collection'}, page_content='Disease: Dengue Description: an acute infectious disease caused by a flavivirus (species Dengue virus of the genus Flavivirus), transmitted by aedes mosquitoes, and characterized by headache, severe joint pain, and a rash. — called also breakbone fever, dengue fever. Immediate Action: drink papaya leaf juice Medical Advice: avoid fatty spicy food Dietary Guidance: keep mosquitos away Long-term Management: keep hydrated')]"
      ]
     },
     "execution_count": 28,
     "metadata": {},
     "output_type": "execute_result"
    }
   ],
   "source": [
    "results"
   ]
  },
  {
   "cell_type": "code",
   "execution_count": 29,
   "metadata": {},
   "outputs": [
    {
     "data": {
      "text/plain": [
       "{'Disease': 'Malaria',\n",
       " '_id': '1497e650-06e7-458c-a542-9f8815e7303f',\n",
       " '_collection_name': 'healthcare_collection'}"
      ]
     },
     "execution_count": 29,
     "metadata": {},
     "output_type": "execute_result"
    }
   ],
   "source": [
    "results[0].metadata"
   ]
  },
  {
   "cell_type": "code",
   "execution_count": 30,
   "metadata": {},
   "outputs": [
    {
     "data": {
      "text/plain": [
       "'Disease: Malaria Description: An infectious disease caused by protozoan parasites from the Plasmodium family that can be transmitted by the bite of the Anopheles mosquito or by a contaminated needle or transfusion. Falciparum malaria is the most deadly type. Immediate Action: Consult nearest hospital Medical Advice: avoid oily food Dietary Guidance: avoid non veg food Long-term Management: keep mosquitos out'"
      ]
     },
     "execution_count": 30,
     "metadata": {},
     "output_type": "execute_result"
    }
   ],
   "source": [
    "results[0].page_content"
   ]
  },
  {
   "cell_type": "code",
   "execution_count": 31,
   "metadata": {},
   "outputs": [
    {
     "name": "stdout",
     "output_type": "stream",
     "text": [
      "* Disease: Malaria Description: An infectious disease caused by protozoan parasites from the Plasmodium family that can be transmitted by the bite of the Anopheles mosquito or by a contaminated needle or transfusion. Falciparum malaria is the most deadly type. Immediate Action: Consult nearest hospital Medical Advice: avoid oily food Dietary Guidance: avoid non veg food Long-term Management: keep mosquitos out [{'Disease': 'Malaria', '_id': '1497e650-06e7-458c-a542-9f8815e7303f', '_collection_name': 'healthcare_collection'}]\n",
      "* Disease: Dengue Description: an acute infectious disease caused by a flavivirus (species Dengue virus of the genus Flavivirus), transmitted by aedes mosquitoes, and characterized by headache, severe joint pain, and a rash. — called also breakbone fever, dengue fever. Immediate Action: drink papaya leaf juice Medical Advice: avoid fatty spicy food Dietary Guidance: keep mosquitos away Long-term Management: keep hydrated [{'Disease': 'Dengue', '_id': '8320500c-c4d2-4143-9263-83fbd5e4170b', '_collection_name': 'healthcare_collection'}]\n"
     ]
    }
   ],
   "source": [
    "for res in results:\n",
    "    print(f\"* {res.page_content} [{res.metadata}]\")"
   ]
  },
  {
   "cell_type": "markdown",
   "metadata": {},
   "source": [
    "#### Information Retrieval"
   ]
  },
  {
   "cell_type": "code",
   "execution_count": 32,
   "metadata": {},
   "outputs": [],
   "source": [
    "def information_retriever(question: str) -> str:\n",
    "    \"\"\"\n",
    "    Search and retrieve information from the Qdrant vector store.\n",
    "    \"\"\"\n",
    "    \n",
    "    # Filter the search results based on the product name\n",
    "    unstructured_data_results = vector_store.similarity_search(\n",
    "        query=query,\n",
    "        k=3\n",
    "    )\n",
    "    \n",
    "    return unstructured_data_results"
   ]
  },
  {
   "cell_type": "code",
   "execution_count": 33,
   "metadata": {},
   "outputs": [
    {
     "data": {
      "text/plain": [
       "[Document(metadata={'Disease': 'Malaria', '_id': '1497e650-06e7-458c-a542-9f8815e7303f', '_collection_name': 'healthcare_collection'}, page_content='Disease: Malaria Description: An infectious disease caused by protozoan parasites from the Plasmodium family that can be transmitted by the bite of the Anopheles mosquito or by a contaminated needle or transfusion. Falciparum malaria is the most deadly type. Immediate Action: Consult nearest hospital Medical Advice: avoid oily food Dietary Guidance: avoid non veg food Long-term Management: keep mosquitos out'),\n",
       " Document(metadata={'Disease': 'Dengue', '_id': '8320500c-c4d2-4143-9263-83fbd5e4170b', '_collection_name': 'healthcare_collection'}, page_content='Disease: Dengue Description: an acute infectious disease caused by a flavivirus (species Dengue virus of the genus Flavivirus), transmitted by aedes mosquitoes, and characterized by headache, severe joint pain, and a rash. — called also breakbone fever, dengue fever. Immediate Action: drink papaya leaf juice Medical Advice: avoid fatty spicy food Dietary Guidance: keep mosquitos away Long-term Management: keep hydrated'),\n",
       " Document(metadata={'Disease': 'Migraine', '_id': '0cb3d835-7a1f-4b10-8622-c8e7a3262c4d', '_collection_name': 'healthcare_collection'}, page_content=\"Disease: Migraine Description: A migraine can cause severe throbbing pain or a pulsing sensation, usually on one side of the head. It's often accompanied by nausea, vomiting, and extreme sensitivity to light and sound. Migraine attacks can last for hours to days, and the pain can be so severe that it interferes with your daily activities. Immediate Action: meditation Medical Advice: reduce stress Dietary Guidance: use poloroid glasses in sun Long-term Management: consult doctor\")]"
      ]
     },
     "execution_count": 33,
     "metadata": {},
     "output_type": "execute_result"
    }
   ],
   "source": [
    "information_retriever(\"What is malaria?\")"
   ]
  },
  {
   "cell_type": "markdown",
   "metadata": {},
   "source": [
    "#### Actual Chatbot"
   ]
  },
  {
   "cell_type": "code",
   "execution_count": 34,
   "metadata": {},
   "outputs": [],
   "source": [
    "from langchain_core.runnables import (\n",
    "    RunnableParallel,\n",
    "    RunnablePassthrough,\n",
    ")"
   ]
  },
  {
   "cell_type": "code",
   "execution_count": 57,
   "metadata": {},
   "outputs": [],
   "source": [
    "bot_chat_template = \"\"\"\n",
    "You are an AI healthcare chatbot with extensive knowledge of medical conditions and diseases. Your task is to provide accurate, concise answers to user questions based solely on the given context.\n",
    "\n",
    "Context: \n",
    "{context}\n",
    "\n",
    "Question: \n",
    "{question}\n",
    "\n",
    "Instructions:\n",
    "- Respond using natural language, ensuring your answer is clear and to the point.\n",
    "- After your answer, explicitly state the context used without modification of the information. You are only to modify the datatype.\n",
    "- If no context is provided, simply reply with: \"No context was provided.\"\n",
    "\n",
    "Answer:\n",
    "Context Used:\n",
    "\"\"\""
   ]
  },
  {
   "cell_type": "code",
   "execution_count": 58,
   "metadata": {},
   "outputs": [],
   "source": [
    "from pydantic import Field, BaseModel\n",
    "from typing import List, Union"
   ]
  },
  {
   "cell_type": "code",
   "execution_count": 59,
   "metadata": {},
   "outputs": [],
   "source": [
    "class ResponseFormat(BaseModel):\n",
    "    \"\"\"Identifying information about Products.\"\"\"\n",
    "\n",
    "    answer: str = Field(\n",
    "        ...,\n",
    "        description=\"Your response to the user query.\"\n",
    "    )\n",
    "    sources: List[Union[str| Document]] = Field(\n",
    "        ...,\n",
    "        description=\"The sources, contexts used to generate the response.\"\n",
    "    )"
   ]
  },
  {
   "cell_type": "code",
   "execution_count": 60,
   "metadata": {},
   "outputs": [],
   "source": [
    "from langchain.prompts import ChatPromptTemplate\n",
    "from langchain_groq import ChatGroq"
   ]
  },
  {
   "cell_type": "code",
   "execution_count": 61,
   "metadata": {},
   "outputs": [],
   "source": [
    "llm = ChatGroq(\n",
    "    model=\"llama-3.1-70b-versatile\",\n",
    "    temperature=0,\n",
    "    max_tokens=None,\n",
    "    timeout=None,\n",
    "    max_retries=2,\n",
    ")"
   ]
  },
  {
   "cell_type": "code",
   "execution_count": 62,
   "metadata": {},
   "outputs": [],
   "source": [
    "bot_chat_prompt = ChatPromptTemplate.from_template(bot_chat_template)\n",
    "\n",
    "chat_chain = (\n",
    "    RunnableParallel(\n",
    "        {\n",
    "            \"context\": information_retriever,\n",
    "            \"question\": RunnablePassthrough(),\n",
    "        }\n",
    "    )\n",
    "    | bot_chat_prompt\n",
    "    | llm.with_structured_output(ResponseFormat)\n",
    ")  "
   ]
  },
  {
   "cell_type": "code",
   "execution_count": 63,
   "metadata": {},
   "outputs": [],
   "source": [
    "response = chat_chain.invoke(\"What is malaria?\")"
   ]
  },
  {
   "cell_type": "code",
   "execution_count": 65,
   "metadata": {},
   "outputs": [
    {
     "data": {
      "text/plain": [
       "ResponseFormat(answer='Malaria is an infectious disease caused by protozoan parasites from the Plasmodium family that can be transmitted by the bite of the Anopheles mosquito or by a contaminated needle or transfusion. Falciparum malaria is the most deadly type.', sources=[Document(metadata={'Disease': 'Malaria', '_id': '1497e650-06e7-458c-a542-9f8815e7303f', '_collection_name': 'healthcare_collection'}, page_content='Disease: Malaria Description: An infectious disease caused by protozoan parasites from the Plasmodium family that can be transmitted by the bite of the Anopheles mosquito or by a contaminated needle or transfusion. Falciparum malaria is the most deadly type. Immediate Action: Consult nearest hospital Medical Advice: avoid oily food Dietary Guidance: avoid non veg food Long-term Management: keep mosquitos out')])"
      ]
     },
     "execution_count": 65,
     "metadata": {},
     "output_type": "execute_result"
    }
   ],
   "source": [
    "response"
   ]
  },
  {
   "cell_type": "code",
   "execution_count": 66,
   "metadata": {},
   "outputs": [
    {
     "data": {
      "text/plain": [
       "'Malaria is an infectious disease caused by protozoan parasites from the Plasmodium family that can be transmitted by the bite of the Anopheles mosquito or by a contaminated needle or transfusion. Falciparum malaria is the most deadly type.'"
      ]
     },
     "execution_count": 66,
     "metadata": {},
     "output_type": "execute_result"
    }
   ],
   "source": [
    "response.answer"
   ]
  },
  {
   "cell_type": "code",
   "execution_count": 67,
   "metadata": {},
   "outputs": [
    {
     "data": {
      "text/plain": [
       "[Document(metadata={'Disease': 'Malaria', '_id': '1497e650-06e7-458c-a542-9f8815e7303f', '_collection_name': 'healthcare_collection'}, page_content='Disease: Malaria Description: An infectious disease caused by protozoan parasites from the Plasmodium family that can be transmitted by the bite of the Anopheles mosquito or by a contaminated needle or transfusion. Falciparum malaria is the most deadly type. Immediate Action: Consult nearest hospital Medical Advice: avoid oily food Dietary Guidance: avoid non veg food Long-term Management: keep mosquitos out')]"
      ]
     },
     "execution_count": 67,
     "metadata": {},
     "output_type": "execute_result"
    }
   ],
   "source": [
    "response.sources"
   ]
  },
  {
   "cell_type": "code",
   "execution_count": null,
   "metadata": {},
   "outputs": [],
   "source": []
  }
 ],
 "metadata": {
  "kernelspec": {
   "display_name": "venv",
   "language": "python",
   "name": "python3"
  },
  "language_info": {
   "codemirror_mode": {
    "name": "ipython",
    "version": 3
   },
   "file_extension": ".py",
   "mimetype": "text/x-python",
   "name": "python",
   "nbconvert_exporter": "python",
   "pygments_lexer": "ipython3",
   "version": "3.10.12"
  }
 },
 "nbformat": 4,
 "nbformat_minor": 2
}
