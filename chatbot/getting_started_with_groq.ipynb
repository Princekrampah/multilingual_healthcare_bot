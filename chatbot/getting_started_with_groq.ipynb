{
 "cells": [
  {
   "cell_type": "markdown",
   "metadata": {},
   "source": [
    "### Install LangChain-Groq Integration"
   ]
  },
  {
   "cell_type": "code",
   "execution_count": 71,
   "metadata": {},
   "outputs": [],
   "source": [
    "!pip install -qU langchain-groq python-dotenv"
   ]
  },
  {
   "cell_type": "markdown",
   "metadata": {},
   "source": [
    "### Getting Started With Ollama\n",
    "\n",
    "[https://itsfoss.com/ollama-setup-linux/](https://itsfoss.com/ollama-setup-linux/)"
   ]
  },
  {
   "cell_type": "markdown",
   "metadata": {},
   "source": [
    "### Load Envs"
   ]
  },
  {
   "cell_type": "code",
   "execution_count": 72,
   "metadata": {},
   "outputs": [
    {
     "name": "stdout",
     "output_type": "stream",
     "text": [
      "The dotenv extension is already loaded. To reload it, use:\n",
      "  %reload_ext dotenv\n"
     ]
    }
   ],
   "source": [
    "from dotenv import load_dotenv\n",
    "\n",
    "%load_ext dotenv\n",
    "%dotenv"
   ]
  },
  {
   "cell_type": "code",
   "execution_count": 73,
   "metadata": {},
   "outputs": [],
   "source": [
    "from langchain_groq import ChatGroq\n",
    "\n",
    "llm = ChatGroq(\n",
    "    model=\"llama-3.1-70b-versatile\",\n",
    "    temperature=0,\n",
    "    max_tokens=None,\n",
    "    timeout=None,\n",
    "    max_retries=2,\n",
    ")"
   ]
  },
  {
   "cell_type": "code",
   "execution_count": 74,
   "metadata": {},
   "outputs": [
    {
     "data": {
      "text/plain": [
       "AIMessage(content=\"J'adore la programmation.\", additional_kwargs={}, response_metadata={'token_usage': {'completion_tokens': 9, 'prompt_tokens': 55, 'total_tokens': 64, 'completion_time': 0.036, 'prompt_time': 0.01635817, 'queue_time': 0.004929370000000002, 'total_time': 0.05235817}, 'model_name': 'llama-3.1-70b-versatile', 'system_fingerprint': 'fp_b3ae7e594e', 'finish_reason': 'stop', 'logprobs': None}, id='run-484fef8c-188b-41b0-9967-352b93a33a52-0', usage_metadata={'input_tokens': 55, 'output_tokens': 9, 'total_tokens': 64})"
      ]
     },
     "execution_count": 74,
     "metadata": {},
     "output_type": "execute_result"
    }
   ],
   "source": [
    "messages = [\n",
    "    (\n",
    "        \"system\",\n",
    "        \"You are a helpful assistant that translates English to French. Translate the user sentence.\",\n",
    "    ),\n",
    "    (\"human\", \"I love programming.\"),\n",
    "]\n",
    "ai_msg = llm.invoke(messages)\n",
    "ai_msg"
   ]
  },
  {
   "cell_type": "code",
   "execution_count": 75,
   "metadata": {},
   "outputs": [
    {
     "data": {
      "text/plain": [
       "\"J'adore la programmation.\""
      ]
     },
     "execution_count": 75,
     "metadata": {},
     "output_type": "execute_result"
    }
   ],
   "source": [
    "ai_msg.content"
   ]
  },
  {
   "cell_type": "markdown",
   "metadata": {},
   "source": [
    "## Question Translation Prompt"
   ]
  },
  {
   "cell_type": "code",
   "execution_count": 76,
   "metadata": {},
   "outputs": [
    {
     "name": "stdout",
     "output_type": "stream",
     "text": [
      "Requirement already satisfied: langchain in /home/prince/Desktop/content/projects/multilingual_health_chatbot/venv/lib/python3.10/site-packages (0.3.0)\n",
      "Requirement already satisfied: langchain-community in /home/prince/Desktop/content/projects/multilingual_health_chatbot/venv/lib/python3.10/site-packages (0.3.0)\n",
      "Requirement already satisfied: langsmith<0.2.0,>=0.1.17 in /home/prince/Desktop/content/projects/multilingual_health_chatbot/venv/lib/python3.10/site-packages (from langchain) (0.1.125)\n",
      "Requirement already satisfied: SQLAlchemy<3,>=1.4 in /home/prince/Desktop/content/projects/multilingual_health_chatbot/venv/lib/python3.10/site-packages (from langchain) (2.0.35)\n",
      "Requirement already satisfied: tenacity!=8.4.0,<9.0.0,>=8.1.0 in /home/prince/Desktop/content/projects/multilingual_health_chatbot/venv/lib/python3.10/site-packages (from langchain) (8.5.0)\n",
      "Requirement already satisfied: pydantic<3.0.0,>=2.7.4 in /home/prince/Desktop/content/projects/multilingual_health_chatbot/venv/lib/python3.10/site-packages (from langchain) (2.9.2)\n",
      "Requirement already satisfied: numpy<2,>=1 in /home/prince/Desktop/content/projects/multilingual_health_chatbot/venv/lib/python3.10/site-packages (from langchain) (1.26.4)\n",
      "Requirement already satisfied: requests<3,>=2 in /home/prince/Desktop/content/projects/multilingual_health_chatbot/venv/lib/python3.10/site-packages (from langchain) (2.32.3)\n",
      "Requirement already satisfied: langchain-text-splitters<0.4.0,>=0.3.0 in /home/prince/Desktop/content/projects/multilingual_health_chatbot/venv/lib/python3.10/site-packages (from langchain) (0.3.0)\n",
      "Requirement already satisfied: async-timeout<5.0.0,>=4.0.0 in /home/prince/Desktop/content/projects/multilingual_health_chatbot/venv/lib/python3.10/site-packages (from langchain) (4.0.3)\n",
      "Requirement already satisfied: aiohttp<4.0.0,>=3.8.3 in /home/prince/Desktop/content/projects/multilingual_health_chatbot/venv/lib/python3.10/site-packages (from langchain) (3.10.5)\n",
      "Requirement already satisfied: langchain-core<0.4.0,>=0.3.0 in /home/prince/Desktop/content/projects/multilingual_health_chatbot/venv/lib/python3.10/site-packages (from langchain) (0.3.2)\n",
      "Requirement already satisfied: PyYAML>=5.3 in /home/prince/Desktop/content/projects/multilingual_health_chatbot/venv/lib/python3.10/site-packages (from langchain) (6.0.2)\n",
      "Requirement already satisfied: pydantic-settings<3.0.0,>=2.4.0 in /home/prince/Desktop/content/projects/multilingual_health_chatbot/venv/lib/python3.10/site-packages (from langchain-community) (2.5.2)\n",
      "Requirement already satisfied: dataclasses-json<0.7,>=0.5.7 in /home/prince/Desktop/content/projects/multilingual_health_chatbot/venv/lib/python3.10/site-packages (from langchain-community) (0.6.7)\n",
      "Requirement already satisfied: frozenlist>=1.1.1 in /home/prince/Desktop/content/projects/multilingual_health_chatbot/venv/lib/python3.10/site-packages (from aiohttp<4.0.0,>=3.8.3->langchain) (1.4.1)\n",
      "Requirement already satisfied: aiosignal>=1.1.2 in /home/prince/Desktop/content/projects/multilingual_health_chatbot/venv/lib/python3.10/site-packages (from aiohttp<4.0.0,>=3.8.3->langchain) (1.3.1)\n",
      "Requirement already satisfied: aiohappyeyeballs>=2.3.0 in /home/prince/Desktop/content/projects/multilingual_health_chatbot/venv/lib/python3.10/site-packages (from aiohttp<4.0.0,>=3.8.3->langchain) (2.4.0)\n",
      "Requirement already satisfied: yarl<2.0,>=1.0 in /home/prince/Desktop/content/projects/multilingual_health_chatbot/venv/lib/python3.10/site-packages (from aiohttp<4.0.0,>=3.8.3->langchain) (1.11.1)\n",
      "Requirement already satisfied: attrs>=17.3.0 in /home/prince/Desktop/content/projects/multilingual_health_chatbot/venv/lib/python3.10/site-packages (from aiohttp<4.0.0,>=3.8.3->langchain) (24.2.0)\n",
      "Requirement already satisfied: multidict<7.0,>=4.5 in /home/prince/Desktop/content/projects/multilingual_health_chatbot/venv/lib/python3.10/site-packages (from aiohttp<4.0.0,>=3.8.3->langchain) (6.1.0)\n",
      "Requirement already satisfied: typing-inspect<1,>=0.4.0 in /home/prince/Desktop/content/projects/multilingual_health_chatbot/venv/lib/python3.10/site-packages (from dataclasses-json<0.7,>=0.5.7->langchain-community) (0.9.0)\n",
      "Requirement already satisfied: marshmallow<4.0.0,>=3.18.0 in /home/prince/Desktop/content/projects/multilingual_health_chatbot/venv/lib/python3.10/site-packages (from dataclasses-json<0.7,>=0.5.7->langchain-community) (3.22.0)\n",
      "Requirement already satisfied: jsonpatch<2.0,>=1.33 in /home/prince/Desktop/content/projects/multilingual_health_chatbot/venv/lib/python3.10/site-packages (from langchain-core<0.4.0,>=0.3.0->langchain) (1.33)\n",
      "Requirement already satisfied: typing-extensions>=4.7 in /home/prince/Desktop/content/projects/multilingual_health_chatbot/venv/lib/python3.10/site-packages (from langchain-core<0.4.0,>=0.3.0->langchain) (4.12.2)\n",
      "Requirement already satisfied: packaging<25,>=23.2 in /home/prince/Desktop/content/projects/multilingual_health_chatbot/venv/lib/python3.10/site-packages (from langchain-core<0.4.0,>=0.3.0->langchain) (24.1)\n",
      "Requirement already satisfied: httpx<1,>=0.23.0 in /home/prince/Desktop/content/projects/multilingual_health_chatbot/venv/lib/python3.10/site-packages (from langsmith<0.2.0,>=0.1.17->langchain) (0.27.2)\n",
      "Requirement already satisfied: orjson<4.0.0,>=3.9.14 in /home/prince/Desktop/content/projects/multilingual_health_chatbot/venv/lib/python3.10/site-packages (from langsmith<0.2.0,>=0.1.17->langchain) (3.10.7)\n",
      "Requirement already satisfied: pydantic-core==2.23.4 in /home/prince/Desktop/content/projects/multilingual_health_chatbot/venv/lib/python3.10/site-packages (from pydantic<3.0.0,>=2.7.4->langchain) (2.23.4)\n",
      "Requirement already satisfied: annotated-types>=0.6.0 in /home/prince/Desktop/content/projects/multilingual_health_chatbot/venv/lib/python3.10/site-packages (from pydantic<3.0.0,>=2.7.4->langchain) (0.7.0)\n",
      "Requirement already satisfied: python-dotenv>=0.21.0 in /home/prince/Desktop/content/projects/multilingual_health_chatbot/venv/lib/python3.10/site-packages (from pydantic-settings<3.0.0,>=2.4.0->langchain-community) (1.0.1)\n",
      "Requirement already satisfied: charset-normalizer<4,>=2 in /home/prince/Desktop/content/projects/multilingual_health_chatbot/venv/lib/python3.10/site-packages (from requests<3,>=2->langchain) (3.3.2)\n",
      "Requirement already satisfied: idna<4,>=2.5 in /home/prince/Desktop/content/projects/multilingual_health_chatbot/venv/lib/python3.10/site-packages (from requests<3,>=2->langchain) (3.10)\n",
      "Requirement already satisfied: urllib3<3,>=1.21.1 in /home/prince/Desktop/content/projects/multilingual_health_chatbot/venv/lib/python3.10/site-packages (from requests<3,>=2->langchain) (2.2.3)\n",
      "Requirement already satisfied: certifi>=2017.4.17 in /home/prince/Desktop/content/projects/multilingual_health_chatbot/venv/lib/python3.10/site-packages (from requests<3,>=2->langchain) (2024.8.30)\n",
      "Requirement already satisfied: greenlet!=0.4.17 in /home/prince/Desktop/content/projects/multilingual_health_chatbot/venv/lib/python3.10/site-packages (from SQLAlchemy<3,>=1.4->langchain) (3.1.1)\n",
      "Requirement already satisfied: httpcore==1.* in /home/prince/Desktop/content/projects/multilingual_health_chatbot/venv/lib/python3.10/site-packages (from httpx<1,>=0.23.0->langsmith<0.2.0,>=0.1.17->langchain) (1.0.5)\n",
      "Requirement already satisfied: sniffio in /home/prince/Desktop/content/projects/multilingual_health_chatbot/venv/lib/python3.10/site-packages (from httpx<1,>=0.23.0->langsmith<0.2.0,>=0.1.17->langchain) (1.3.1)\n",
      "Requirement already satisfied: anyio in /home/prince/Desktop/content/projects/multilingual_health_chatbot/venv/lib/python3.10/site-packages (from httpx<1,>=0.23.0->langsmith<0.2.0,>=0.1.17->langchain) (4.5.0)\n",
      "Requirement already satisfied: h11<0.15,>=0.13 in /home/prince/Desktop/content/projects/multilingual_health_chatbot/venv/lib/python3.10/site-packages (from httpcore==1.*->httpx<1,>=0.23.0->langsmith<0.2.0,>=0.1.17->langchain) (0.14.0)\n",
      "Requirement already satisfied: jsonpointer>=1.9 in /home/prince/Desktop/content/projects/multilingual_health_chatbot/venv/lib/python3.10/site-packages (from jsonpatch<2.0,>=1.33->langchain-core<0.4.0,>=0.3.0->langchain) (3.0.0)\n",
      "Requirement already satisfied: mypy-extensions>=0.3.0 in /home/prince/Desktop/content/projects/multilingual_health_chatbot/venv/lib/python3.10/site-packages (from typing-inspect<1,>=0.4.0->dataclasses-json<0.7,>=0.5.7->langchain-community) (1.0.0)\n",
      "Requirement already satisfied: exceptiongroup>=1.0.2 in /home/prince/Desktop/content/projects/multilingual_health_chatbot/venv/lib/python3.10/site-packages (from anyio->httpx<1,>=0.23.0->langsmith<0.2.0,>=0.1.17->langchain) (1.2.2)\n"
     ]
    }
   ],
   "source": [
    "!pip install langchain langchain-community"
   ]
  },
  {
   "cell_type": "code",
   "execution_count": 77,
   "metadata": {},
   "outputs": [],
   "source": [
    "from langchain.prompts import (\n",
    "    ChatPromptTemplate,\n",
    "    HumanMessagePromptTemplate,\n",
    "    PromptTemplate,\n",
    "    SystemMessagePromptTemplate,\n",
    ")\n",
    "from pydantic import BaseModel\n",
    "from langchain_core.output_parsers import JsonOutputParser\n"
   ]
  },
  {
   "cell_type": "markdown",
   "metadata": {},
   "source": [
    "### Creating Parser"
   ]
  },
  {
   "cell_type": "code",
   "execution_count": 78,
   "metadata": {},
   "outputs": [],
   "source": [
    "class TranslationParser(BaseModel):\n",
    "    source_language: str\n",
    "    target_language: str\n",
    "    target_text: str\n",
    "    \n",
    "translation_parser =  JsonOutputParser(pydantic_object=TranslationParser)"
   ]
  },
  {
   "cell_type": "markdown",
   "metadata": {},
   "source": [
    "### Prompts"
   ]
  },
  {
   "cell_type": "code",
   "execution_count": 79,
   "metadata": {},
   "outputs": [],
   "source": [
    "language_translation = \"\"\"\n",
    "You are a highly skilled assistant specializing in language translation. \n",
    "Your task is to accurately translate the given text into English while \n",
    "preserving the original meaning, tone, and context. Please translate the user's sentence to English.\n",
    "\n",
    "User's sentence: {user_sentence}\n",
    "\n",
    "Your final output should be in the following format: {format_instructions}\n",
    "\"\"\""
   ]
  },
  {
   "cell_type": "code",
   "execution_count": 80,
   "metadata": {},
   "outputs": [],
   "source": [
    "language_translation_prompt = SystemMessagePromptTemplate(\n",
    "    prompt=PromptTemplate(\n",
    "        input_variables=[\"user_sentence\", \"format_instructions\"],\n",
    "        template=language_translation,\n",
    "        partial_variables={\n",
    "            \"format_instructions\": translation_parser.get_format_instructions()\n",
    "        },\n",
    "    )\n",
    ")\n",
    "\n",
    "human_prompt = HumanMessagePromptTemplate(\n",
    "    prompt=PromptTemplate(\n",
    "        input_variables=[\"user_sentence\"], template=\"Translate this text to English. Text: {user_sentence}\"\n",
    "    )\n",
    ")\n",
    "\n",
    "messages = [language_translation_prompt, human_prompt]\n",
    "\n",
    "translation_chain_promt = ChatPromptTemplate(\n",
    "    messages=messages,\n",
    "    input_variables=[\"user_sentence\"]\n",
    ")"
   ]
  },
  {
   "cell_type": "code",
   "execution_count": 81,
   "metadata": {},
   "outputs": [],
   "source": [
    "first_layer_translation_chain = translation_chain_promt | llm | translation_parser"
   ]
  },
  {
   "cell_type": "code",
   "execution_count": 82,
   "metadata": {},
   "outputs": [
    {
     "data": {
      "text/plain": [
       "{'source_language': 'French',\n",
       " 'target_language': 'English',\n",
       " 'target_text': 'I like programming.'}"
      ]
     },
     "execution_count": 82,
     "metadata": {},
     "output_type": "execute_result"
    }
   ],
   "source": [
    "first_layer_translation_chain.invoke({\n",
    "    \"user_sentence\": \"J'aime programmer.\"\n",
    "})"
   ]
  },
  {
   "cell_type": "markdown",
   "metadata": {},
   "source": [
    "## Chatbot"
   ]
  },
  {
   "cell_type": "code",
   "execution_count": 83,
   "metadata": {},
   "outputs": [
    {
     "name": "stdout",
     "output_type": "stream",
     "text": [
      "The dotenv extension is already loaded. To reload it, use:\n",
      "  %reload_ext dotenv\n"
     ]
    }
   ],
   "source": [
    "from langchain_qdrant import QdrantVectorStore\n",
    "from qdrant_client import QdrantClient\n",
    "from dotenv import load_dotenv\n",
    "import os\n",
    "\n",
    "%load_ext dotenv\n",
    "%dotenv\n"
   ]
  },
  {
   "cell_type": "markdown",
   "metadata": {},
   "source": [
    "#### Qdrant Client"
   ]
  },
  {
   "cell_type": "code",
   "execution_count": 84,
   "metadata": {},
   "outputs": [],
   "source": [
    "qdrant_client = QdrantClient(\n",
    "    api_key=os.getenv(\"QDRANT_API_KEY\"),\n",
    "    url=os.getenv(\"QDRANT_URL\")\n",
    ")"
   ]
  },
  {
   "cell_type": "code",
   "execution_count": 85,
   "metadata": {},
   "outputs": [],
   "source": [
    "COLLECTION_NAME =\"healthcare_collection\""
   ]
  },
  {
   "cell_type": "code",
   "execution_count": 86,
   "metadata": {},
   "outputs": [],
   "source": [
    "from qdrant_client.http.models import Distance, VectorParams\n",
    "from langchain_qdrant import QdrantVectorStore\n",
    "from langchain_openai import OpenAIEmbeddings"
   ]
  },
  {
   "cell_type": "code",
   "execution_count": 87,
   "metadata": {},
   "outputs": [],
   "source": [
    "embedding_model = OpenAIEmbeddings(\n",
    "    model=os.getenv(\"EMBEDDING_MODEL\", \n",
    "                    default=\"text-embedding-3-small\"\n",
    "                )\n",
    ")"
   ]
  },
  {
   "cell_type": "code",
   "execution_count": 88,
   "metadata": {},
   "outputs": [],
   "source": [
    "vector_store = QdrantVectorStore(\n",
    "    client=qdrant_client,\n",
    "    collection_name=COLLECTION_NAME,\n",
    "    embedding=embedding_model,\n",
    "    # retrieval_mode=RetrievalMode.DENSE\n",
    ")"
   ]
  },
  {
   "cell_type": "code",
   "execution_count": 89,
   "metadata": {},
   "outputs": [],
   "source": [
    "def information_retriever(question: str) -> str:\n",
    "    \"\"\"\n",
    "    Search and retrieve information from the Qdrant vector store.\n",
    "    \"\"\"\n",
    "    \n",
    "    # Filter the search results based on the product name\n",
    "    unstructured_data_results = vector_store.similarity_search(\n",
    "        query=question,\n",
    "        k=3\n",
    "    )\n",
    "    \n",
    "    return unstructured_data_results"
   ]
  },
  {
   "cell_type": "code",
   "execution_count": 90,
   "metadata": {},
   "outputs": [
    {
     "data": {
      "text/plain": [
       "[Document(metadata={'Disease': 'Malaria', '_id': '1497e650-06e7-458c-a542-9f8815e7303f', '_collection_name': 'healthcare_collection'}, page_content='Disease: Malaria Description: An infectious disease caused by protozoan parasites from the Plasmodium family that can be transmitted by the bite of the Anopheles mosquito or by a contaminated needle or transfusion. Falciparum malaria is the most deadly type. Immediate Action: Consult nearest hospital Medical Advice: avoid oily food Dietary Guidance: avoid non veg food Long-term Management: keep mosquitos out'),\n",
       " Document(metadata={'Disease': 'Dengue', '_id': '8320500c-c4d2-4143-9263-83fbd5e4170b', '_collection_name': 'healthcare_collection'}, page_content='Disease: Dengue Description: an acute infectious disease caused by a flavivirus (species Dengue virus of the genus Flavivirus), transmitted by aedes mosquitoes, and characterized by headache, severe joint pain, and a rash. — called also breakbone fever, dengue fever. Immediate Action: drink papaya leaf juice Medical Advice: avoid fatty spicy food Dietary Guidance: keep mosquitos away Long-term Management: keep hydrated'),\n",
       " Document(metadata={'Disease': 'Migraine', '_id': '0cb3d835-7a1f-4b10-8622-c8e7a3262c4d', '_collection_name': 'healthcare_collection'}, page_content=\"Disease: Migraine Description: A migraine can cause severe throbbing pain or a pulsing sensation, usually on one side of the head. It's often accompanied by nausea, vomiting, and extreme sensitivity to light and sound. Migraine attacks can last for hours to days, and the pain can be so severe that it interferes with your daily activities. Immediate Action: meditation Medical Advice: reduce stress Dietary Guidance: use poloroid glasses in sun Long-term Management: consult doctor\")]"
      ]
     },
     "execution_count": 90,
     "metadata": {},
     "output_type": "execute_result"
    }
   ],
   "source": [
    "information_retriever(\"What is malaria?\")"
   ]
  },
  {
   "cell_type": "markdown",
   "metadata": {},
   "source": [
    "### Actual Chatbot"
   ]
  },
  {
   "cell_type": "code",
   "execution_count": 91,
   "metadata": {},
   "outputs": [],
   "source": [
    "from langchain_core.runnables import (\n",
    "    RunnableParallel,\n",
    "    RunnablePassthrough,\n",
    ")"
   ]
  },
  {
   "cell_type": "code",
   "execution_count": 92,
   "metadata": {},
   "outputs": [],
   "source": [
    "bot_chat_template = \"\"\"\n",
    "You are an AI healthcare chatbot with extensive knowledge of medical conditions and diseases. Your task is to provide accurate, concise answers to user questions based solely on the given context.\n",
    "\n",
    "Context: \n",
    "{context}\n",
    "\n",
    "Question: \n",
    "{question}\n",
    "\n",
    "Instructions:\n",
    "- Respond using natural language, ensuring your answer is clear and to the point.\n",
    "- After your answer, explicitly state the context used without modification of the information. You are only to modify the datatype.\n",
    "- If no context is provided, simply reply with: \"No context was provided.\"\n",
    "\n",
    "Answer:\n",
    "Context Used:\n",
    "\"\"\""
   ]
  },
  {
   "cell_type": "code",
   "execution_count": 93,
   "metadata": {},
   "outputs": [],
   "source": [
    "from langchain_core.documents import Document\n",
    "from pydantic import Field, BaseModel\n",
    "from typing import List, Union"
   ]
  },
  {
   "cell_type": "code",
   "execution_count": 94,
   "metadata": {},
   "outputs": [],
   "source": [
    "class ResponseFormat(BaseModel):\n",
    "    \"\"\"Identifying information about Products.\"\"\"\n",
    "\n",
    "    answer: str = Field(\n",
    "        ...,\n",
    "        description=\"Your response to the user query.\"\n",
    "    )\n",
    "    sources: List[Union[str| Document]] = Field(\n",
    "        ...,\n",
    "        description=\"The sources, contexts used to generate the response.\"\n",
    "    )"
   ]
  },
  {
   "cell_type": "code",
   "execution_count": 95,
   "metadata": {},
   "outputs": [],
   "source": [
    "llm = ChatGroq(\n",
    "    model=\"llama-3.1-70b-versatile\",\n",
    "    temperature=0,\n",
    "    max_tokens=None,\n",
    "    timeout=None,\n",
    "    max_retries=2,\n",
    ")"
   ]
  },
  {
   "cell_type": "code",
   "execution_count": 96,
   "metadata": {},
   "outputs": [],
   "source": [
    "bot_chat_prompt = ChatPromptTemplate.from_template(bot_chat_template)\n",
    "\n",
    "chat_chain = (\n",
    "    RunnableParallel(\n",
    "        {\n",
    "            \"context\": information_retriever,\n",
    "            \"question\": RunnablePassthrough(),\n",
    "        }\n",
    "    )\n",
    "    | bot_chat_prompt\n",
    "    | llm.with_structured_output(ResponseFormat)\n",
    ")  "
   ]
  },
  {
   "cell_type": "code",
   "execution_count": 97,
   "metadata": {},
   "outputs": [],
   "source": [
    "response = chat_chain.invoke(\"What is malaria?\")"
   ]
  },
  {
   "cell_type": "code",
   "execution_count": 98,
   "metadata": {},
   "outputs": [
    {
     "data": {
      "text/plain": [
       "ResponseFormat(answer='Malaria is an infectious disease caused by protozoan parasites from the Plasmodium family that can be transmitted by the bite of the Anopheles mosquito or by a contaminated needle or transfusion. Falciparum malaria is the most deadly type.', sources=[Document(metadata={'Disease': 'Malaria', '_id': '1497e650-06e7-458c-a542-9f8815e7303f', '_collection_name': 'healthcare_collection'}, page_content='Disease: Malaria Description: An infectious disease caused by protozoan parasites from the Plasmodium family that can be transmitted by the bite of the Anopheles mosquito or by a contaminated needle or transfusion. Falciparum malaria is the most deadly type. Immediate Action: Consult nearest hospital Medical Advice: avoid oily food Dietary Guidance: avoid non veg food Long-term Management: keep mosquitos out')])"
      ]
     },
     "execution_count": 98,
     "metadata": {},
     "output_type": "execute_result"
    }
   ],
   "source": [
    "response"
   ]
  },
  {
   "cell_type": "code",
   "execution_count": 99,
   "metadata": {},
   "outputs": [
    {
     "data": {
      "text/plain": [
       "'Malaria is an infectious disease caused by protozoan parasites from the Plasmodium family that can be transmitted by the bite of the Anopheles mosquito or by a contaminated needle or transfusion. Falciparum malaria is the most deadly type.'"
      ]
     },
     "execution_count": 99,
     "metadata": {},
     "output_type": "execute_result"
    }
   ],
   "source": [
    "response.answer"
   ]
  },
  {
   "cell_type": "code",
   "execution_count": 100,
   "metadata": {},
   "outputs": [
    {
     "data": {
      "text/plain": [
       "[Document(metadata={'Disease': 'Malaria', '_id': '1497e650-06e7-458c-a542-9f8815e7303f', '_collection_name': 'healthcare_collection'}, page_content='Disease: Malaria Description: An infectious disease caused by protozoan parasites from the Plasmodium family that can be transmitted by the bite of the Anopheles mosquito or by a contaminated needle or transfusion. Falciparum malaria is the most deadly type. Immediate Action: Consult nearest hospital Medical Advice: avoid oily food Dietary Guidance: avoid non veg food Long-term Management: keep mosquitos out')]"
      ]
     },
     "execution_count": 100,
     "metadata": {},
     "output_type": "execute_result"
    }
   ],
   "source": [
    "response.sources"
   ]
  },
  {
   "cell_type": "code",
   "execution_count": 101,
   "metadata": {},
   "outputs": [],
   "source": [
    "second_layer_language_translation = \"\"\"\n",
    "You are a highly skilled assistant specializing in language translation. \n",
    "Your task is to accurately translate the given text into the specified target language while \n",
    "preserving the original meaning, tone, and context.\n",
    "\n",
    "User's sentence: {sentence}\n",
    "Souce Language: English\n",
    "Target Language: {target_language}\n",
    "\n",
    "Your final output should be in the following format: {format_instructions}\n",
    "\"\"\""
   ]
  },
  {
   "cell_type": "code",
   "execution_count": 102,
   "metadata": {},
   "outputs": [],
   "source": [
    "second_language_translation_prompt = SystemMessagePromptTemplate(\n",
    "    prompt=PromptTemplate(\n",
    "        input_variables=[\"sentence\", \"target_language\", \"format_instructions\"],\n",
    "        template=second_layer_language_translation,\n",
    "        partial_variables={\n",
    "            \"format_instructions\": translation_parser.get_format_instructions()\n",
    "        },\n",
    "    )\n",
    ")\n",
    "\n",
    "second_layer_human_prompt = HumanMessagePromptTemplate(\n",
    "    prompt=PromptTemplate(\n",
    "        input_variables=[\"sentence\"], template=\"Translate this text to the specified language. Text: {sentence}\"\n",
    "    )\n",
    ")\n",
    "\n",
    "messages = [second_language_translation_prompt, second_layer_human_prompt]\n",
    "\n",
    "second_layer_translation_chain_promt = ChatPromptTemplate(\n",
    "    messages=messages,\n",
    "    input_variables=[\"sentence\"]\n",
    ")"
   ]
  },
  {
   "cell_type": "code",
   "execution_count": 103,
   "metadata": {},
   "outputs": [],
   "source": [
    "second_layer_translation_chain = second_layer_translation_chain_promt | llm | translation_parser"
   ]
  },
  {
   "cell_type": "code",
   "execution_count": 104,
   "metadata": {},
   "outputs": [],
   "source": [
    "response = second_layer_translation_chain.invoke({\n",
    "    \"sentence\": response.answer,\n",
    "    \"target_language\": \"French\"\n",
    "})"
   ]
  },
  {
   "cell_type": "code",
   "execution_count": 105,
   "metadata": {},
   "outputs": [
    {
     "data": {
      "text/plain": [
       "{'source_language': 'English',\n",
       " 'target_language': 'French',\n",
       " 'target_text': 'Le paludisme est une maladie infectieuse causée par des parasites protozoaires de la famille du Plasmodium qui peuvent être transmis par la piqûre du moustique Anopheles ou par une aiguille contaminée ou une transfusion. Le paludisme à falciparum est le type le plus mortel.'}"
      ]
     },
     "execution_count": 105,
     "metadata": {},
     "output_type": "execute_result"
    }
   ],
   "source": [
    "response"
   ]
  },
  {
   "cell_type": "markdown",
   "metadata": {},
   "source": [
    "#### Putting It All Together"
   ]
  },
  {
   "cell_type": "code",
   "execution_count": 114,
   "metadata": {},
   "outputs": [],
   "source": [
    "def multilingual_chatbot(question: str) -> dict:\n",
    "    \"\"\"\n",
    "    Multilingual chatbot that answers user questions in multiple languages.\n",
    "    \"\"\"\n",
    "    # Translate the user question to English\n",
    "    translated_question = first_layer_translation_chain.invoke({\n",
    "        \"user_sentence\": question\n",
    "    })\n",
    "    \n",
    "    # Retrieve information based on the user question\n",
    "    response = chat_chain.invoke(translated_question.get(\"target_text\"))\n",
    "    \n",
    "    # Translate the response to the specified target language\n",
    "    translated_response = second_layer_translation_chain.invoke({\n",
    "        \"sentence\": response.answer,\n",
    "        \"target_language\": translated_question.get(\"source_language\")\n",
    "    })\n",
    "    \n",
    "    return {\n",
    "        \"question\": translated_question, \n",
    "        \"response\": translated_response, \n",
    "        \"sources\": response.sources\n",
    "    }"
   ]
  },
  {
   "cell_type": "code",
   "execution_count": 115,
   "metadata": {},
   "outputs": [],
   "source": [
    "ml_response = multilingual_chatbot(\"Malaria ni nini?\")"
   ]
  },
  {
   "cell_type": "code",
   "execution_count": 116,
   "metadata": {},
   "outputs": [
    {
     "data": {
      "text/plain": [
       "{'question': {'source_language': 'Swahili',\n",
       "  'target_language': 'English',\n",
       "  'target_text': 'What is malaria?'},\n",
       " 'response': {'source_language': 'English',\n",
       "  'target_language': 'Swahili',\n",
       "  'target_text': \"Malaria ni ugonjwa wa kuambukiza unaosababishwa na vimelea vya protozoa kutoka kwa familia ya Plasmodium ambavyo vinaweza kusambazwa kwa kung'ata kwa mbu wa Anopheles au kwa kuchoma sindano au kwa njia ya damu. Malaria ya Falciparum ni aina inayoweza kuua zaidi.\"},\n",
       " 'sources': [Document(metadata={'Disease': 'Malaria', '_id': '1497e650-06e7-458c-a542-9f8815e7303f', '_collection_name': 'healthcare_collection'}, page_content='Disease: Malaria Description: An infectious disease caused by protozoan parasites from the Plasmodium family that can be transmitted by the bite of the Anopheles mosquito or by a contaminated needle or transfusion. Falciparum malaria is the most deadly type. Immediate Action: Consult nearest hospital Medical Advice: avoid oily food Dietary Guidance: avoid non veg food Long-term Management: keep mosquitos out')]}"
      ]
     },
     "execution_count": 116,
     "metadata": {},
     "output_type": "execute_result"
    }
   ],
   "source": [
    "ml_response"
   ]
  },
  {
   "cell_type": "code",
   "execution_count": null,
   "metadata": {},
   "outputs": [],
   "source": []
  }
 ],
 "metadata": {
  "kernelspec": {
   "display_name": "venv",
   "language": "python",
   "name": "python3"
  },
  "language_info": {
   "codemirror_mode": {
    "name": "ipython",
    "version": 3
   },
   "file_extension": ".py",
   "mimetype": "text/x-python",
   "name": "python",
   "nbconvert_exporter": "python",
   "pygments_lexer": "ipython3",
   "version": "3.10.12"
  }
 },
 "nbformat": 4,
 "nbformat_minor": 2
}
