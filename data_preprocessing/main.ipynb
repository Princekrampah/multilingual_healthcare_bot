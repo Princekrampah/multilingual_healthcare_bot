{
 "cells": [
  {
   "cell_type": "markdown",
   "metadata": {},
   "source": [
    "## Dataset\n",
    "\n",
    "[Dataset source](https://www.kaggle.com/datasets/rohitadnaik/chatbot-symptom-description?select=symptom_Description.csv)"
   ]
  },
  {
   "cell_type": "markdown",
   "metadata": {},
   "source": [
    "## Installations"
   ]
  },
  {
   "cell_type": "code",
   "execution_count": 32,
   "metadata": {},
   "outputs": [
    {
     "name": "stdout",
     "output_type": "stream",
     "text": [
      "Requirement already satisfied: pandas in /home/prince/Desktop/content/projects/multilingual_health_chatbot/venv/lib/python3.10/site-packages (2.2.3)\n",
      "Requirement already satisfied: python-dateutil>=2.8.2 in /home/prince/Desktop/content/projects/multilingual_health_chatbot/venv/lib/python3.10/site-packages (from pandas) (2.9.0.post0)\n",
      "Requirement already satisfied: tzdata>=2022.7 in /home/prince/Desktop/content/projects/multilingual_health_chatbot/venv/lib/python3.10/site-packages (from pandas) (2024.1)\n",
      "Requirement already satisfied: pytz>=2020.1 in /home/prince/Desktop/content/projects/multilingual_health_chatbot/venv/lib/python3.10/site-packages (from pandas) (2024.2)\n",
      "Requirement already satisfied: numpy>=1.22.4 in /home/prince/Desktop/content/projects/multilingual_health_chatbot/venv/lib/python3.10/site-packages (from pandas) (2.1.1)\n",
      "Requirement already satisfied: six>=1.5 in /home/prince/Desktop/content/projects/multilingual_health_chatbot/venv/lib/python3.10/site-packages (from python-dateutil>=2.8.2->pandas) (1.16.0)\n"
     ]
    }
   ],
   "source": [
    "!pip install pandas"
   ]
  },
  {
   "cell_type": "markdown",
   "metadata": {},
   "source": [
    "## Import"
   ]
  },
  {
   "cell_type": "code",
   "execution_count": 33,
   "metadata": {},
   "outputs": [],
   "source": [
    "import pandas as pd"
   ]
  },
  {
   "cell_type": "code",
   "execution_count": 34,
   "metadata": {},
   "outputs": [],
   "source": [
    "symptoms_description_df = pd.read_csv('../data/symptom_Description.csv')\n",
    "symptoms_precaution_df = pd.read_csv('../data/symptom_precaution.csv')"
   ]
  },
  {
   "cell_type": "code",
   "execution_count": 35,
   "metadata": {},
   "outputs": [
    {
     "data": {
      "text/html": [
       "<div>\n",
       "<style scoped>\n",
       "    .dataframe tbody tr th:only-of-type {\n",
       "        vertical-align: middle;\n",
       "    }\n",
       "\n",
       "    .dataframe tbody tr th {\n",
       "        vertical-align: top;\n",
       "    }\n",
       "\n",
       "    .dataframe thead th {\n",
       "        text-align: right;\n",
       "    }\n",
       "</style>\n",
       "<table border=\"1\" class=\"dataframe\">\n",
       "  <thead>\n",
       "    <tr style=\"text-align: right;\">\n",
       "      <th></th>\n",
       "      <th>Drug Reaction</th>\n",
       "      <th>An adverse drug reaction (ADR) is an injury caused by taking medication. ADRs may occur following a single dose or prolonged administration of a drug or result from the combination of two or more drugs.</th>\n",
       "    </tr>\n",
       "  </thead>\n",
       "  <tbody>\n",
       "    <tr>\n",
       "      <th>0</th>\n",
       "      <td>Malaria</td>\n",
       "      <td>An infectious disease caused by protozoan para...</td>\n",
       "    </tr>\n",
       "    <tr>\n",
       "      <th>1</th>\n",
       "      <td>Allergy</td>\n",
       "      <td>An allergy is an immune system response to a f...</td>\n",
       "    </tr>\n",
       "    <tr>\n",
       "      <th>2</th>\n",
       "      <td>Hypothyroidism</td>\n",
       "      <td>Hypothyroidism, also called underactive thyroi...</td>\n",
       "    </tr>\n",
       "    <tr>\n",
       "      <th>3</th>\n",
       "      <td>Psoriasis</td>\n",
       "      <td>Psoriasis is a common skin disorder that forms...</td>\n",
       "    </tr>\n",
       "    <tr>\n",
       "      <th>4</th>\n",
       "      <td>GERD</td>\n",
       "      <td>Gastroesophageal reflux disease, or GERD, is a...</td>\n",
       "    </tr>\n",
       "  </tbody>\n",
       "</table>\n",
       "</div>"
      ],
      "text/plain": [
       "    Drug Reaction  \\\n",
       "0         Malaria   \n",
       "1         Allergy   \n",
       "2  Hypothyroidism   \n",
       "3       Psoriasis   \n",
       "4            GERD   \n",
       "\n",
       "  An adverse drug reaction (ADR) is an injury caused by taking medication. ADRs may occur following a single dose or prolonged administration of a drug or result from the combination of two or more drugs.  \n",
       "0  An infectious disease caused by protozoan para...                                                                                                                                                          \n",
       "1  An allergy is an immune system response to a f...                                                                                                                                                          \n",
       "2  Hypothyroidism, also called underactive thyroi...                                                                                                                                                          \n",
       "3  Psoriasis is a common skin disorder that forms...                                                                                                                                                          \n",
       "4  Gastroesophageal reflux disease, or GERD, is a...                                                                                                                                                          "
      ]
     },
     "execution_count": 35,
     "metadata": {},
     "output_type": "execute_result"
    }
   ],
   "source": [
    "symptoms_description_df.head()"
   ]
  },
  {
   "cell_type": "code",
   "execution_count": 36,
   "metadata": {},
   "outputs": [
    {
     "data": {
      "text/html": [
       "<div>\n",
       "<style scoped>\n",
       "    .dataframe tbody tr th:only-of-type {\n",
       "        vertical-align: middle;\n",
       "    }\n",
       "\n",
       "    .dataframe tbody tr th {\n",
       "        vertical-align: top;\n",
       "    }\n",
       "\n",
       "    .dataframe thead th {\n",
       "        text-align: right;\n",
       "    }\n",
       "</style>\n",
       "<table border=\"1\" class=\"dataframe\">\n",
       "  <thead>\n",
       "    <tr style=\"text-align: right;\">\n",
       "      <th></th>\n",
       "      <th>Drug Reaction</th>\n",
       "      <th>stop irritation</th>\n",
       "      <th>consult nearest hospital</th>\n",
       "      <th>stop taking drug</th>\n",
       "      <th>follow up</th>\n",
       "    </tr>\n",
       "  </thead>\n",
       "  <tbody>\n",
       "    <tr>\n",
       "      <th>0</th>\n",
       "      <td>Malaria</td>\n",
       "      <td>Consult nearest hospital</td>\n",
       "      <td>avoid oily food</td>\n",
       "      <td>avoid non veg food</td>\n",
       "      <td>keep mosquitos out</td>\n",
       "    </tr>\n",
       "    <tr>\n",
       "      <th>1</th>\n",
       "      <td>Allergy</td>\n",
       "      <td>apply calamine</td>\n",
       "      <td>cover area with bandage</td>\n",
       "      <td>NaN</td>\n",
       "      <td>use ice to compress itching</td>\n",
       "    </tr>\n",
       "    <tr>\n",
       "      <th>2</th>\n",
       "      <td>Hypothyroidism</td>\n",
       "      <td>reduce stress</td>\n",
       "      <td>exercise</td>\n",
       "      <td>eat healthy</td>\n",
       "      <td>get proper sleep</td>\n",
       "    </tr>\n",
       "    <tr>\n",
       "      <th>3</th>\n",
       "      <td>Psoriasis</td>\n",
       "      <td>wash hands with warm soapy water</td>\n",
       "      <td>stop bleeding using pressure</td>\n",
       "      <td>consult doctor</td>\n",
       "      <td>salt baths</td>\n",
       "    </tr>\n",
       "    <tr>\n",
       "      <th>4</th>\n",
       "      <td>GERD</td>\n",
       "      <td>avoid fatty spicy food</td>\n",
       "      <td>avoid lying down after eating</td>\n",
       "      <td>maintain healthy weight</td>\n",
       "      <td>exercise</td>\n",
       "    </tr>\n",
       "  </tbody>\n",
       "</table>\n",
       "</div>"
      ],
      "text/plain": [
       "    Drug Reaction                   stop irritation  \\\n",
       "0         Malaria          Consult nearest hospital   \n",
       "1         Allergy                    apply calamine   \n",
       "2  Hypothyroidism                     reduce stress   \n",
       "3       Psoriasis  wash hands with warm soapy water   \n",
       "4            GERD            avoid fatty spicy food   \n",
       "\n",
       "        consult nearest hospital         stop taking drug  \\\n",
       "0                avoid oily food       avoid non veg food   \n",
       "1        cover area with bandage                      NaN   \n",
       "2                       exercise              eat healthy   \n",
       "3   stop bleeding using pressure           consult doctor   \n",
       "4  avoid lying down after eating  maintain healthy weight   \n",
       "\n",
       "                     follow up  \n",
       "0           keep mosquitos out  \n",
       "1  use ice to compress itching  \n",
       "2             get proper sleep  \n",
       "3                   salt baths  \n",
       "4                     exercise  "
      ]
     },
     "execution_count": 36,
     "metadata": {},
     "output_type": "execute_result"
    }
   ],
   "source": [
    "symptoms_precaution_df.head()"
   ]
  },
  {
   "cell_type": "markdown",
   "metadata": {},
   "source": [
    "## Replace NaNs With Empty String"
   ]
  },
  {
   "cell_type": "code",
   "execution_count": 37,
   "metadata": {},
   "outputs": [],
   "source": [
    "symptoms_description_df.replace(to_replace=pd.NA, value='', inplace=True)\n",
    "symptoms_precaution_df.replace(to_replace=pd.NA, value='', inplace=True)"
   ]
  },
  {
   "cell_type": "code",
   "execution_count": 38,
   "metadata": {},
   "outputs": [
    {
     "data": {
      "text/plain": [
       "Drug Reaction                                                                                                                                                                                                 0\n",
       "An adverse drug reaction (ADR) is an injury caused by taking medication. ADRs may occur following a single dose or prolonged administration of a drug or result from the combination of two or more drugs.    0\n",
       "dtype: int64"
      ]
     },
     "execution_count": 38,
     "metadata": {},
     "output_type": "execute_result"
    }
   ],
   "source": [
    "symptoms_description_df.isna().sum()"
   ]
  },
  {
   "cell_type": "code",
   "execution_count": 39,
   "metadata": {},
   "outputs": [
    {
     "data": {
      "text/plain": [
       "Drug Reaction               0\n",
       "stop irritation             0\n",
       "consult nearest hospital    0\n",
       "stop taking drug            0\n",
       "follow up                   0\n",
       "dtype: int64"
      ]
     },
     "execution_count": 39,
     "metadata": {},
     "output_type": "execute_result"
    }
   ],
   "source": [
    "symptoms_precaution_df.isna().sum()"
   ]
  },
  {
   "cell_type": "markdown",
   "metadata": {},
   "source": [
    "## Rename column Headers"
   ]
  },
  {
   "cell_type": "code",
   "execution_count": 40,
   "metadata": {},
   "outputs": [],
   "source": [
    "symptoms_description_df.rename(columns={'Drug Reaction': 'Disease', 'An adverse drug reaction (ADR) is an injury caused by taking medication. ADRs may occur following a single dose or prolonged administration of a drug or result from the combination of two or more drugs.': 'Description'}, inplace=True)\n",
    "symptoms_precaution_df.rename(columns={'Drug Reaction': 'Disease'}, inplace=True)\n"
   ]
  },
  {
   "cell_type": "code",
   "execution_count": 41,
   "metadata": {},
   "outputs": [
    {
     "data": {
      "text/plain": [
       "Index(['Disease', 'Description'], dtype='object')"
      ]
     },
     "execution_count": 41,
     "metadata": {},
     "output_type": "execute_result"
    }
   ],
   "source": [
    "symptoms_description_df.columns"
   ]
  },
  {
   "cell_type": "code",
   "execution_count": 42,
   "metadata": {},
   "outputs": [
    {
     "data": {
      "text/plain": [
       "Index(['Disease', 'stop irritation', 'consult nearest hospital',\n",
       "       'stop taking drug', 'follow up'],\n",
       "      dtype='object')"
      ]
     },
     "execution_count": 42,
     "metadata": {},
     "output_type": "execute_result"
    }
   ],
   "source": [
    "symptoms_precaution_df.columns"
   ]
  },
  {
   "cell_type": "markdown",
   "metadata": {},
   "source": [
    "## Combine Data Frames"
   ]
  },
  {
   "cell_type": "code",
   "execution_count": 43,
   "metadata": {},
   "outputs": [
    {
     "data": {
      "text/plain": [
       "(40, 2)"
      ]
     },
     "execution_count": 43,
     "metadata": {},
     "output_type": "execute_result"
    }
   ],
   "source": [
    "symptoms_description_df.shape"
   ]
  },
  {
   "cell_type": "code",
   "execution_count": 44,
   "metadata": {},
   "outputs": [
    {
     "data": {
      "text/plain": [
       "(40, 5)"
      ]
     },
     "execution_count": 44,
     "metadata": {},
     "output_type": "execute_result"
    }
   ],
   "source": [
    "symptoms_precaution_df.shape"
   ]
  },
  {
   "cell_type": "code",
   "execution_count": 48,
   "metadata": {},
   "outputs": [],
   "source": [
    "df = pd.merge(symptoms_description_df, symptoms_precaution_df, on='Disease', how='inner')"
   ]
  },
  {
   "cell_type": "code",
   "execution_count": 49,
   "metadata": {},
   "outputs": [
    {
     "data": {
      "text/plain": [
       "(37, 6)"
      ]
     },
     "execution_count": 49,
     "metadata": {},
     "output_type": "execute_result"
    }
   ],
   "source": [
    "df.shape"
   ]
  },
  {
   "cell_type": "code",
   "execution_count": 50,
   "metadata": {},
   "outputs": [
    {
     "data": {
      "text/html": [
       "<div>\n",
       "<style scoped>\n",
       "    .dataframe tbody tr th:only-of-type {\n",
       "        vertical-align: middle;\n",
       "    }\n",
       "\n",
       "    .dataframe tbody tr th {\n",
       "        vertical-align: top;\n",
       "    }\n",
       "\n",
       "    .dataframe thead th {\n",
       "        text-align: right;\n",
       "    }\n",
       "</style>\n",
       "<table border=\"1\" class=\"dataframe\">\n",
       "  <thead>\n",
       "    <tr style=\"text-align: right;\">\n",
       "      <th></th>\n",
       "      <th>Disease</th>\n",
       "      <th>Description</th>\n",
       "      <th>stop irritation</th>\n",
       "      <th>consult nearest hospital</th>\n",
       "      <th>stop taking drug</th>\n",
       "      <th>follow up</th>\n",
       "    </tr>\n",
       "  </thead>\n",
       "  <tbody>\n",
       "    <tr>\n",
       "      <th>0</th>\n",
       "      <td>Malaria</td>\n",
       "      <td>An infectious disease caused by protozoan para...</td>\n",
       "      <td>Consult nearest hospital</td>\n",
       "      <td>avoid oily food</td>\n",
       "      <td>avoid non veg food</td>\n",
       "      <td>keep mosquitos out</td>\n",
       "    </tr>\n",
       "    <tr>\n",
       "      <th>1</th>\n",
       "      <td>Allergy</td>\n",
       "      <td>An allergy is an immune system response to a f...</td>\n",
       "      <td>apply calamine</td>\n",
       "      <td>cover area with bandage</td>\n",
       "      <td></td>\n",
       "      <td>use ice to compress itching</td>\n",
       "    </tr>\n",
       "    <tr>\n",
       "      <th>2</th>\n",
       "      <td>Hypothyroidism</td>\n",
       "      <td>Hypothyroidism, also called underactive thyroi...</td>\n",
       "      <td>reduce stress</td>\n",
       "      <td>exercise</td>\n",
       "      <td>eat healthy</td>\n",
       "      <td>get proper sleep</td>\n",
       "    </tr>\n",
       "    <tr>\n",
       "      <th>3</th>\n",
       "      <td>Psoriasis</td>\n",
       "      <td>Psoriasis is a common skin disorder that forms...</td>\n",
       "      <td>wash hands with warm soapy water</td>\n",
       "      <td>stop bleeding using pressure</td>\n",
       "      <td>consult doctor</td>\n",
       "      <td>salt baths</td>\n",
       "    </tr>\n",
       "    <tr>\n",
       "      <th>4</th>\n",
       "      <td>GERD</td>\n",
       "      <td>Gastroesophageal reflux disease, or GERD, is a...</td>\n",
       "      <td>avoid fatty spicy food</td>\n",
       "      <td>avoid lying down after eating</td>\n",
       "      <td>maintain healthy weight</td>\n",
       "      <td>exercise</td>\n",
       "    </tr>\n",
       "  </tbody>\n",
       "</table>\n",
       "</div>"
      ],
      "text/plain": [
       "          Disease                                        Description  \\\n",
       "0         Malaria  An infectious disease caused by protozoan para...   \n",
       "1         Allergy  An allergy is an immune system response to a f...   \n",
       "2  Hypothyroidism  Hypothyroidism, also called underactive thyroi...   \n",
       "3       Psoriasis  Psoriasis is a common skin disorder that forms...   \n",
       "4            GERD  Gastroesophageal reflux disease, or GERD, is a...   \n",
       "\n",
       "                    stop irritation       consult nearest hospital  \\\n",
       "0          Consult nearest hospital                avoid oily food   \n",
       "1                    apply calamine        cover area with bandage   \n",
       "2                     reduce stress                       exercise   \n",
       "3  wash hands with warm soapy water   stop bleeding using pressure   \n",
       "4            avoid fatty spicy food  avoid lying down after eating   \n",
       "\n",
       "          stop taking drug                    follow up  \n",
       "0       avoid non veg food           keep mosquitos out  \n",
       "1                           use ice to compress itching  \n",
       "2              eat healthy             get proper sleep  \n",
       "3           consult doctor                   salt baths  \n",
       "4  maintain healthy weight                     exercise  "
      ]
     },
     "execution_count": 50,
     "metadata": {},
     "output_type": "execute_result"
    }
   ],
   "source": [
    "df.head()"
   ]
  },
  {
   "cell_type": "code",
   "execution_count": 53,
   "metadata": {},
   "outputs": [
    {
     "data": {
      "text/html": [
       "<div>\n",
       "<style scoped>\n",
       "    .dataframe tbody tr th:only-of-type {\n",
       "        vertical-align: middle;\n",
       "    }\n",
       "\n",
       "    .dataframe tbody tr th {\n",
       "        vertical-align: top;\n",
       "    }\n",
       "\n",
       "    .dataframe thead th {\n",
       "        text-align: right;\n",
       "    }\n",
       "</style>\n",
       "<table border=\"1\" class=\"dataframe\">\n",
       "  <thead>\n",
       "    <tr style=\"text-align: right;\">\n",
       "      <th></th>\n",
       "      <th>Disease</th>\n",
       "      <th>Description</th>\n",
       "      <th>Immediate Action</th>\n",
       "      <th>Medical Advice</th>\n",
       "      <th>Dietary Guidance</th>\n",
       "      <th>Long-term Management</th>\n",
       "    </tr>\n",
       "  </thead>\n",
       "  <tbody>\n",
       "    <tr>\n",
       "      <th>0</th>\n",
       "      <td>Malaria</td>\n",
       "      <td>An infectious disease caused by protozoan para...</td>\n",
       "      <td>Consult nearest hospital</td>\n",
       "      <td>avoid oily food</td>\n",
       "      <td>avoid non veg food</td>\n",
       "      <td>keep mosquitos out</td>\n",
       "    </tr>\n",
       "    <tr>\n",
       "      <th>1</th>\n",
       "      <td>Allergy</td>\n",
       "      <td>An allergy is an immune system response to a f...</td>\n",
       "      <td>apply calamine</td>\n",
       "      <td>cover area with bandage</td>\n",
       "      <td></td>\n",
       "      <td>use ice to compress itching</td>\n",
       "    </tr>\n",
       "    <tr>\n",
       "      <th>2</th>\n",
       "      <td>Hypothyroidism</td>\n",
       "      <td>Hypothyroidism, also called underactive thyroi...</td>\n",
       "      <td>reduce stress</td>\n",
       "      <td>exercise</td>\n",
       "      <td>eat healthy</td>\n",
       "      <td>get proper sleep</td>\n",
       "    </tr>\n",
       "    <tr>\n",
       "      <th>3</th>\n",
       "      <td>Psoriasis</td>\n",
       "      <td>Psoriasis is a common skin disorder that forms...</td>\n",
       "      <td>wash hands with warm soapy water</td>\n",
       "      <td>stop bleeding using pressure</td>\n",
       "      <td>consult doctor</td>\n",
       "      <td>salt baths</td>\n",
       "    </tr>\n",
       "    <tr>\n",
       "      <th>4</th>\n",
       "      <td>GERD</td>\n",
       "      <td>Gastroesophageal reflux disease, or GERD, is a...</td>\n",
       "      <td>avoid fatty spicy food</td>\n",
       "      <td>avoid lying down after eating</td>\n",
       "      <td>maintain healthy weight</td>\n",
       "      <td>exercise</td>\n",
       "    </tr>\n",
       "  </tbody>\n",
       "</table>\n",
       "</div>"
      ],
      "text/plain": [
       "          Disease                                        Description  \\\n",
       "0         Malaria  An infectious disease caused by protozoan para...   \n",
       "1         Allergy  An allergy is an immune system response to a f...   \n",
       "2  Hypothyroidism  Hypothyroidism, also called underactive thyroi...   \n",
       "3       Psoriasis  Psoriasis is a common skin disorder that forms...   \n",
       "4            GERD  Gastroesophageal reflux disease, or GERD, is a...   \n",
       "\n",
       "                   Immediate Action                 Medical Advice  \\\n",
       "0          Consult nearest hospital                avoid oily food   \n",
       "1                    apply calamine        cover area with bandage   \n",
       "2                     reduce stress                       exercise   \n",
       "3  wash hands with warm soapy water   stop bleeding using pressure   \n",
       "4            avoid fatty spicy food  avoid lying down after eating   \n",
       "\n",
       "          Dietary Guidance         Long-term Management  \n",
       "0       avoid non veg food           keep mosquitos out  \n",
       "1                           use ice to compress itching  \n",
       "2              eat healthy             get proper sleep  \n",
       "3           consult doctor                   salt baths  \n",
       "4  maintain healthy weight                     exercise  "
      ]
     },
     "execution_count": 53,
     "metadata": {},
     "output_type": "execute_result"
    }
   ],
   "source": [
    "df.rename(columns={\n",
    "    'Disease': 'Disease',\n",
    "    'Description': 'Description',\n",
    "    'stop irritation': 'Immediate Action',\n",
    "    'consult nearest hospital': 'Medical Advice',\n",
    "    'stop taking drug': 'Dietary Guidance',\n",
    "    'follow up': 'Long-term Management'\n",
    "}, inplace=True)\n",
    "\n",
    "df.head()"
   ]
  },
  {
   "cell_type": "code",
   "execution_count": 65,
   "metadata": {},
   "outputs": [],
   "source": [
    "def print_rows(df):\n",
    "    \"\"\"\n",
    "    Print each row of a DataFrame in the format:\n",
    "    ColumnName: Content in bold\n",
    "    \n",
    "    Args:\n",
    "    df (pandas.DataFrame): The DataFrame to print\n",
    "    \"\"\"\n",
    "    for index, row in df.iterrows():\n",
    "        for column in df.columns:\n",
    "            print(f'{column}: {row[column]}')\n",
    "        print()  # Empty line between rows"
   ]
  },
  {
   "cell_type": "code",
   "execution_count": 66,
   "metadata": {},
   "outputs": [
    {
     "name": "stdout",
     "output_type": "stream",
     "text": [
      "Disease: Malaria\n",
      "Description: An infectious disease caused by protozoan parasites from the Plasmodium family that can be transmitted by the bite of the Anopheles mosquito or by a contaminated needle or transfusion. Falciparum malaria is the most deadly type.\n",
      "Immediate Action: Consult nearest hospital\n",
      "Medical Advice: avoid oily food\n",
      "Dietary Guidance: avoid non veg food\n",
      "Long-term Management: keep mosquitos out\n",
      "\n",
      "Disease: Allergy\n",
      "Description: An allergy is an immune system response to a foreign substance that's not typically harmful to your body.They can include certain foods, pollen, or pet dander. Your immune system's job is to keep you healthy by fighting harmful pathogens.\n",
      "Immediate Action: apply calamine\n",
      "Medical Advice: cover area with bandage\n",
      "Dietary Guidance: \n",
      "Long-term Management: use ice to compress itching\n",
      "\n",
      "Disease: Hypothyroidism\n",
      "Description: Hypothyroidism, also called underactive thyroid or low thyroid, is a disorder of the endocrine system in which the thyroid gland does not produce enough thyroid hormone.\n",
      "Immediate Action: reduce stress\n",
      "Medical Advice: exercise\n",
      "Dietary Guidance: eat healthy\n",
      "Long-term Management: get proper sleep\n",
      "\n",
      "Disease: Psoriasis\n",
      "Description: Psoriasis is a common skin disorder that forms thick, red, bumpy patches covered with silvery scales. They can pop up anywhere, but most appear on the scalp, elbows, knees, and lower back. Psoriasis can't be passed from person to person. It does sometimes happen in members of the same family.\n",
      "Immediate Action: wash hands with warm soapy water\n",
      "Medical Advice: stop bleeding using pressure\n",
      "Dietary Guidance: consult doctor\n",
      "Long-term Management: salt baths\n",
      "\n",
      "Disease: GERD\n",
      "Description: Gastroesophageal reflux disease, or GERD, is a digestive disorder that affects the lower esophageal sphincter (LES), the ring of muscle between the esophagus and stomach. Many people, including pregnant women, suffer from heartburn or acid indigestion caused by GERD.\n",
      "Immediate Action: avoid fatty spicy food\n",
      "Medical Advice: avoid lying down after eating\n",
      "Dietary Guidance: maintain healthy weight\n",
      "Long-term Management: exercise\n",
      "\n",
      "Disease: Chronic cholestasis\n",
      "Description: Chronic cholestatic diseases, whether occurring in infancy, childhood or adulthood, are characterized by defective bile acid transport from the liver to the intestine, which is caused by primary damage to the biliary epithelium in most cases\n",
      "Immediate Action: cold baths\n",
      "Medical Advice: anti itch medicine\n",
      "Dietary Guidance: consult doctor\n",
      "Long-term Management: eat healthy\n",
      "\n",
      "Disease: hepatitis A\n",
      "Description: Hepatitis A is a highly contagious liver infection caused by the hepatitis A virus. The virus is one of several types of hepatitis viruses that cause inflammation and affect your liver's ability to function.\n",
      "Immediate Action: Consult nearest hospital\n",
      "Medical Advice: wash hands through\n",
      "Dietary Guidance: avoid fatty spicy food\n",
      "Long-term Management: medication\n",
      "\n",
      "Disease: Osteoarthristis\n",
      "Description: Osteoarthritis is the most common form of arthritis, affecting millions of people worldwide. It occurs when the protective cartilage that cushions the ends of your bones wears down over time.\n",
      "Immediate Action: acetaminophen\n",
      "Medical Advice: consult nearest hospital\n",
      "Dietary Guidance: follow up\n",
      "Long-term Management: salt baths\n",
      "\n",
      "Disease: (vertigo) Paroymsal  Positional Vertigo\n",
      "Description: Benign paroxysmal positional vertigo (BPPV) is one of the most common causes of vertigo — the sudden sensation that you're spinning or that the inside of your head is spinning. Benign paroxysmal positional vertigo causes brief episodes of mild to intense dizziness.\n",
      "Immediate Action: lie down\n",
      "Medical Advice: avoid sudden change in body\n",
      "Dietary Guidance: avoid abrupt head movment\n",
      "Long-term Management: relax\n",
      "\n",
      "Disease: Hypoglycemia\n",
      "Description:  Hypoglycemia is a condition in which your blood sugar (glucose) level is lower than normal. Glucose is your body's main energy source. Hypoglycemia is often related to diabetes treatment. But other drugs and a variety of conditions — many rare — can cause low blood sugar in people who don't have diabetes.\n",
      "Immediate Action: lie down on side\n",
      "Medical Advice: check in pulse\n",
      "Dietary Guidance: drink sugary drinks\n",
      "Long-term Management: consult doctor\n",
      "\n",
      "Disease: Acne\n",
      "Description: Acne vulgaris is the formation of comedones, papules, pustules, nodules, and/or cysts as a result of obstruction and inflammation of pilosebaceous units (hair follicles and their accompanying sebaceous gland). Acne develops on the face and upper trunk. It most often affects adolescents.\n",
      "Immediate Action: bath twice\n",
      "Medical Advice: avoid fatty spicy food\n",
      "Dietary Guidance: drink plenty of water\n",
      "Long-term Management: avoid too many products\n",
      "\n",
      "Disease: Impetigo\n",
      "Description: Impetigo (im-puh-TIE-go) is a common and highly contagious skin infection that mainly affects infants and children. Impetigo usually appears as red sores on the face, especially around a child's nose and mouth, and on hands and feet. The sores burst and develop honey-colored crusts.\n",
      "Immediate Action: soak affected area in warm water\n",
      "Medical Advice: use antibiotics\n",
      "Dietary Guidance: remove scabs with wet compressed cloth\n",
      "Long-term Management: consult doctor\n",
      "\n",
      "Disease: Peptic ulcer diseae\n",
      "Description: Peptic ulcer disease (PUD) is a break in the inner lining of the stomach, the first part of the small intestine, or sometimes the lower esophagus. An ulcer in the stomach is called a gastric ulcer, while one in the first part of the intestines is a duodenal ulcer.\n",
      "Immediate Action: avoid fatty spicy food\n",
      "Medical Advice: consume probiotic food\n",
      "Dietary Guidance: eliminate milk\n",
      "Long-term Management: limit alcohol\n",
      "\n",
      "Disease: Common Cold\n",
      "Description: The common cold is a viral infection of your nose and throat (upper respiratory tract). It's usually harmless, although it might not feel that way. Many types of viruses can cause a common cold.\n",
      "Immediate Action: drink vitamin c rich drinks\n",
      "Medical Advice: take vapour\n",
      "Dietary Guidance: avoid cold food\n",
      "Long-term Management: keep fever in check\n",
      "\n",
      "Disease: Chicken pox\n",
      "Description: Chickenpox is a highly contagious disease caused by the varicella-zoster virus (VZV). It can cause an itchy, blister-like rash. The rash first appears on the chest, back, and face, and then spreads over the entire body, causing between 250 and 500 itchy blisters.\n",
      "Immediate Action: use neem in bathing \n",
      "Medical Advice: consume neem leaves\n",
      "Dietary Guidance: take vaccine\n",
      "Long-term Management: avoid public places\n",
      "\n",
      "Disease: Cervical spondylosis\n",
      "Description: Cervical spondylosis is a general term for age-related wear and tear affecting the spinal disks in your neck. As the disks dehydrate and shrink, signs of osteoarthritis develop, including bony projections along the edges of bones (bone spurs).\n",
      "Immediate Action: use heating pad or cold pack\n",
      "Medical Advice: exercise\n",
      "Dietary Guidance: take otc pain reliver\n",
      "Long-term Management: consult doctor\n",
      "\n",
      "Disease: Hyperthyroidism\n",
      "Description: Hyperthyroidism (overactive thyroid) occurs when your thyroid gland produces too much of the hormone thyroxine. Hyperthyroidism can accelerate your body's metabolism, causing unintentional weight loss and a rapid or irregular heartbeat.\n",
      "Immediate Action: eat healthy\n",
      "Medical Advice: massage\n",
      "Dietary Guidance: use lemon balm\n",
      "Long-term Management: take radioactive iodine treatment\n",
      "\n",
      "Disease: Urinary tract infection\n",
      "Description: Urinary tract infection: An infection of the kidney, ureter, bladder, or urethra. Abbreviated UTI. Not everyone with a UTI has symptoms, but common symptoms include a frequent urge to urinate and pain or burning when urinating.\n",
      "Immediate Action: drink plenty of water\n",
      "Medical Advice: increase vitamin c intake\n",
      "Dietary Guidance: drink cranberry juice\n",
      "Long-term Management: take probiotics\n",
      "\n",
      "Disease: Varicose veins\n",
      "Description: A vein that has enlarged and twisted, often appearing as a bulging, blue blood vessel that is clearly visible through the skin. Varicose veins are most common in older adults, particularly women, and occur especially on the legs.\n",
      "Immediate Action: lie down flat and raise the leg high\n",
      "Medical Advice: use oinments\n",
      "Dietary Guidance: use vein compression\n",
      "Long-term Management: dont stand still for long\n",
      "\n",
      "Disease: AIDS\n",
      "Description: Acquired immunodeficiency syndrome (AIDS) is a chronic, potentially life-threatening condition caused by the human immunodeficiency virus (HIV). By damaging your immune system, HIV interferes with your body's ability to fight infection and disease.\n",
      "Immediate Action: avoid open cuts\n",
      "Medical Advice: wear ppe if possible\n",
      "Dietary Guidance: consult doctor\n",
      "Long-term Management: follow up\n",
      "\n",
      "Disease: Paralysis (brain hemorrhage)\n",
      "Description: Intracerebral hemorrhage (ICH) is when blood suddenly bursts into brain tissue, causing damage to your brain. Symptoms usually appear suddenly during ICH. They include headache, weakness, confusion, and paralysis, particularly on one side of your body.\n",
      "Immediate Action: massage\n",
      "Medical Advice: eat healthy\n",
      "Dietary Guidance: exercise\n",
      "Long-term Management: consult doctor\n",
      "\n",
      "Disease: Typhoid\n",
      "Description: An acute illness characterized by fever caused by infection with the bacterium Salmonella typhi. Typhoid fever has an insidious onset, with fever, headache, constipation, malaise, chills, and muscle pain. Diarrhea is uncommon, and vomiting is not usually severe.\n",
      "Immediate Action: eat high calorie vegitables\n",
      "Medical Advice: antiboitic therapy\n",
      "Dietary Guidance: consult doctor\n",
      "Long-term Management: medication\n",
      "\n",
      "Disease: Hepatitis B\n",
      "Description: Hepatitis B is an infection of your liver. It can cause scarring of the organ, liver failure, and cancer. It can be fatal if it isn't treated. It's spread when people come in contact with the blood, open sores, or body fluids of someone who has the hepatitis B virus.\n",
      "Immediate Action: consult nearest hospital\n",
      "Medical Advice: vaccination\n",
      "Dietary Guidance: eat healthy\n",
      "Long-term Management: medication\n",
      "\n",
      "Disease: Fungal infection\n",
      "Description: In humans, fungal infections occur when an invading fungus takes over an area of the body and is too much for the immune system to handle. Fungi can live in the air, soil, water, and plants. There are also some fungi that live naturally in the human body. Like many microbes, there are helpful fungi and harmful fungi.\n",
      "Immediate Action: bath twice\n",
      "Medical Advice: use detol or neem in bathing water\n",
      "Dietary Guidance: keep infected area dry\n",
      "Long-term Management: use clean cloths\n",
      "\n",
      "Disease: Hepatitis C\n",
      "Description: Inflammation of the liver due to the hepatitis C virus (HCV), which is usually spread via blood transfusion (rare), hemodialysis, and needle sticks. The damage hepatitis C does to the liver can lead to cirrhosis and its complications as well as cancer.\n",
      "Immediate Action: Consult nearest hospital\n",
      "Medical Advice: vaccination\n",
      "Dietary Guidance: eat healthy\n",
      "Long-term Management: medication\n",
      "\n",
      "Disease: Migraine\n",
      "Description: A migraine can cause severe throbbing pain or a pulsing sensation, usually on one side of the head. It's often accompanied by nausea, vomiting, and extreme sensitivity to light and sound. Migraine attacks can last for hours to days, and the pain can be so severe that it interferes with your daily activities.\n",
      "Immediate Action: meditation\n",
      "Medical Advice: reduce stress\n",
      "Dietary Guidance: use poloroid glasses in sun\n",
      "Long-term Management: consult doctor\n",
      "\n",
      "Disease: Bronchial Asthma\n",
      "Description: Bronchial asthma is a medical condition which causes the airway path of the lungs to swell and narrow. Due to this swelling, the air path produces excess mucus making it hard to breathe, which results in coughing, short breath, and wheezing. The disease is chronic and interferes with daily working.\n",
      "Immediate Action: switch to loose cloothing\n",
      "Medical Advice: take deep breaths\n",
      "Dietary Guidance: get away from trigger\n",
      "Long-term Management: seek help\n",
      "\n",
      "Disease: Alcoholic hepatitis\n",
      "Description: Alcoholic hepatitis is a diseased, inflammatory condition of the liver caused by heavy alcohol consumption over an extended period of time. It's also aggravated by binge drinking and ongoing alcohol use. If you develop this condition, you must stop drinking alcohol\n",
      "Immediate Action: stop alcohol consumption\n",
      "Medical Advice: consult doctor\n",
      "Dietary Guidance: medication\n",
      "Long-term Management: follow up\n",
      "\n",
      "Disease: Jaundice\n",
      "Description: Yellow staining of the skin and sclerae (the whites of the eyes) by abnormally high blood levels of the bile pigment bilirubin. The yellowing extends to other tissues and body fluids. Jaundice was once called the \"morbus regius\" (the regal disease) in the belief that only the touch of a king could cure it\n",
      "Immediate Action: drink plenty of water\n",
      "Medical Advice: consume milk thistle\n",
      "Dietary Guidance: eat fruits and high fiberous food\n",
      "Long-term Management: medication\n",
      "\n",
      "Disease: Hepatitis E\n",
      "Description: A rare form of liver inflammation caused by infection with the hepatitis E virus (HEV). It is transmitted via food or drink handled by an infected person or through infected water supplies in areas where fecal matter may get into the water. Hepatitis E does not cause chronic liver disease.\n",
      "Immediate Action: stop alcohol consumption\n",
      "Medical Advice: rest\n",
      "Dietary Guidance: consult doctor\n",
      "Long-term Management: medication\n",
      "\n",
      "Disease: Dengue\n",
      "Description: an acute infectious disease caused by a flavivirus (species Dengue virus of the genus Flavivirus), transmitted by aedes mosquitoes, and characterized by headache, severe joint pain, and a rash. — called also breakbone fever, dengue fever.\n",
      "Immediate Action: drink papaya leaf juice\n",
      "Medical Advice: avoid fatty spicy food\n",
      "Dietary Guidance: keep mosquitos away\n",
      "Long-term Management: keep hydrated\n",
      "\n",
      "Disease: Hepatitis D\n",
      "Description: Hepatitis D, also known as the hepatitis delta virus, is an infection that causes the liver to become inflamed. This swelling can impair liver function and cause long-term liver problems, including liver scarring and cancer. The condition is caused by the hepatitis D virus (HDV).\n",
      "Immediate Action: consult doctor\n",
      "Medical Advice: medication\n",
      "Dietary Guidance: eat healthy\n",
      "Long-term Management: follow up\n",
      "\n",
      "Disease: Heart attack\n",
      "Description: The death of heart muscle due to the loss of blood supply. The loss of blood supply is usually caused by a complete blockage of a coronary artery, one of the arteries that supplies blood to the heart muscle.\n",
      "Immediate Action: call ambulance\n",
      "Medical Advice: chew or swallow asprin\n",
      "Dietary Guidance: keep calm\n",
      "Long-term Management: \n",
      "\n",
      "Disease: Pneumonia\n",
      "Description: Pneumonia is an infection in one or both lungs. Bacteria, viruses, and fungi cause it. The infection causes inflammation in the air sacs in your lungs, which are called alveoli. The alveoli fill with fluid or pus, making it difficult to breathe.\n",
      "Immediate Action: consult doctor\n",
      "Medical Advice: medication\n",
      "Dietary Guidance: rest\n",
      "Long-term Management: follow up\n",
      "\n",
      "Disease: Arthritis\n",
      "Description: Arthritis is the swelling and tenderness of one or more of your joints. The main symptoms of arthritis are joint pain and stiffness, which typically worsen with age. The most common types of arthritis are osteoarthritis and rheumatoid arthritis.\n",
      "Immediate Action: exercise\n",
      "Medical Advice: use hot and cold therapy\n",
      "Dietary Guidance: try acupuncture\n",
      "Long-term Management: massage\n",
      "\n",
      "Disease: Gastroenteritis\n",
      "Description: Gastroenteritis is an inflammation of the digestive tract, particularly the stomach, and large and small intestines. Viral and bacterial gastroenteritis are intestinal infections associated with symptoms of diarrhea , abdominal cramps, nausea , and vomiting .\n",
      "Immediate Action: stop eating solid food for while\n",
      "Medical Advice: try taking small sips of water\n",
      "Dietary Guidance: rest\n",
      "Long-term Management: ease back into eating\n",
      "\n",
      "Disease: Tuberculosis\n",
      "Description: Tuberculosis (TB) is an infectious disease usually caused by Mycobacterium tuberculosis (MTB) bacteria. Tuberculosis generally affects the lungs, but can also affect other parts of the body. Most infections show no symptoms, in which case it is known as latent tuberculosis.\n",
      "Immediate Action: cover mouth\n",
      "Medical Advice: consult doctor\n",
      "Dietary Guidance: medication\n",
      "Long-term Management: rest\n",
      "\n"
     ]
    }
   ],
   "source": [
    "print_rows(df)"
   ]
  },
  {
   "cell_type": "markdown",
   "metadata": {},
   "source": [
    "## Prepare For Embedding"
   ]
  },
  {
   "cell_type": "code",
   "execution_count": 69,
   "metadata": {},
   "outputs": [],
   "source": [
    "def prepare_new_column(data):\n",
    "    \"\"\"\n",
    "    Prepares the given disease data for embedding by combining all fields into a single string.\n",
    "    \n",
    "    Args:\n",
    "    data (dict): A dictionary containing disease information\n",
    "    \n",
    "    Returns:\n",
    "    str: A single string containing all the disease information\n",
    "    \"\"\"\n",
    "    fields = [\n",
    "        f\"Disease: {data['Disease']}\",\n",
    "        f\"Description: {data['Description']}\",\n",
    "        f\"Immediate Action: {data['Immediate Action']}\",\n",
    "        f\"Medical Advice: {data['Medical Advice']}\",\n",
    "        f\"Dietary Guidance: {data['Dietary Guidance']}\",\n",
    "        f\"Long-term Management: {data['Long-term Management']}\"\n",
    "    ]\n",
    "    \n",
    "    return \" \".join(fields)"
   ]
  },
  {
   "cell_type": "code",
   "execution_count": 71,
   "metadata": {},
   "outputs": [],
   "source": [
    "df['prepared_text'] = df.apply(lambda row: prepare_new_column(row.to_dict()), axis=1)"
   ]
  },
  {
   "cell_type": "code",
   "execution_count": 72,
   "metadata": {},
   "outputs": [
    {
     "data": {
      "text/html": [
       "<div>\n",
       "<style scoped>\n",
       "    .dataframe tbody tr th:only-of-type {\n",
       "        vertical-align: middle;\n",
       "    }\n",
       "\n",
       "    .dataframe tbody tr th {\n",
       "        vertical-align: top;\n",
       "    }\n",
       "\n",
       "    .dataframe thead th {\n",
       "        text-align: right;\n",
       "    }\n",
       "</style>\n",
       "<table border=\"1\" class=\"dataframe\">\n",
       "  <thead>\n",
       "    <tr style=\"text-align: right;\">\n",
       "      <th></th>\n",
       "      <th>Disease</th>\n",
       "      <th>Description</th>\n",
       "      <th>Immediate Action</th>\n",
       "      <th>Medical Advice</th>\n",
       "      <th>Dietary Guidance</th>\n",
       "      <th>Long-term Management</th>\n",
       "      <th>prepared_text</th>\n",
       "    </tr>\n",
       "  </thead>\n",
       "  <tbody>\n",
       "    <tr>\n",
       "      <th>0</th>\n",
       "      <td>Malaria</td>\n",
       "      <td>An infectious disease caused by protozoan para...</td>\n",
       "      <td>Consult nearest hospital</td>\n",
       "      <td>avoid oily food</td>\n",
       "      <td>avoid non veg food</td>\n",
       "      <td>keep mosquitos out</td>\n",
       "      <td>Disease: Malaria Description: An infectious di...</td>\n",
       "    </tr>\n",
       "    <tr>\n",
       "      <th>1</th>\n",
       "      <td>Allergy</td>\n",
       "      <td>An allergy is an immune system response to a f...</td>\n",
       "      <td>apply calamine</td>\n",
       "      <td>cover area with bandage</td>\n",
       "      <td></td>\n",
       "      <td>use ice to compress itching</td>\n",
       "      <td>Disease: Allergy Description: An allergy is an...</td>\n",
       "    </tr>\n",
       "    <tr>\n",
       "      <th>2</th>\n",
       "      <td>Hypothyroidism</td>\n",
       "      <td>Hypothyroidism, also called underactive thyroi...</td>\n",
       "      <td>reduce stress</td>\n",
       "      <td>exercise</td>\n",
       "      <td>eat healthy</td>\n",
       "      <td>get proper sleep</td>\n",
       "      <td>Disease: Hypothyroidism Description: Hypothyro...</td>\n",
       "    </tr>\n",
       "    <tr>\n",
       "      <th>3</th>\n",
       "      <td>Psoriasis</td>\n",
       "      <td>Psoriasis is a common skin disorder that forms...</td>\n",
       "      <td>wash hands with warm soapy water</td>\n",
       "      <td>stop bleeding using pressure</td>\n",
       "      <td>consult doctor</td>\n",
       "      <td>salt baths</td>\n",
       "      <td>Disease: Psoriasis Description: Psoriasis is a...</td>\n",
       "    </tr>\n",
       "    <tr>\n",
       "      <th>4</th>\n",
       "      <td>GERD</td>\n",
       "      <td>Gastroesophageal reflux disease, or GERD, is a...</td>\n",
       "      <td>avoid fatty spicy food</td>\n",
       "      <td>avoid lying down after eating</td>\n",
       "      <td>maintain healthy weight</td>\n",
       "      <td>exercise</td>\n",
       "      <td>Disease: GERD Description: Gastroesophageal re...</td>\n",
       "    </tr>\n",
       "  </tbody>\n",
       "</table>\n",
       "</div>"
      ],
      "text/plain": [
       "          Disease                                        Description  \\\n",
       "0         Malaria  An infectious disease caused by protozoan para...   \n",
       "1         Allergy  An allergy is an immune system response to a f...   \n",
       "2  Hypothyroidism  Hypothyroidism, also called underactive thyroi...   \n",
       "3       Psoriasis  Psoriasis is a common skin disorder that forms...   \n",
       "4            GERD  Gastroesophageal reflux disease, or GERD, is a...   \n",
       "\n",
       "                   Immediate Action                 Medical Advice  \\\n",
       "0          Consult nearest hospital                avoid oily food   \n",
       "1                    apply calamine        cover area with bandage   \n",
       "2                     reduce stress                       exercise   \n",
       "3  wash hands with warm soapy water   stop bleeding using pressure   \n",
       "4            avoid fatty spicy food  avoid lying down after eating   \n",
       "\n",
       "          Dietary Guidance         Long-term Management  \\\n",
       "0       avoid non veg food           keep mosquitos out   \n",
       "1                           use ice to compress itching   \n",
       "2              eat healthy             get proper sleep   \n",
       "3           consult doctor                   salt baths   \n",
       "4  maintain healthy weight                     exercise   \n",
       "\n",
       "                                       prepared_text  \n",
       "0  Disease: Malaria Description: An infectious di...  \n",
       "1  Disease: Allergy Description: An allergy is an...  \n",
       "2  Disease: Hypothyroidism Description: Hypothyro...  \n",
       "3  Disease: Psoriasis Description: Psoriasis is a...  \n",
       "4  Disease: GERD Description: Gastroesophageal re...  "
      ]
     },
     "execution_count": 72,
     "metadata": {},
     "output_type": "execute_result"
    }
   ],
   "source": [
    "df.head()"
   ]
  },
  {
   "cell_type": "markdown",
   "metadata": {},
   "source": [
    "## Final Data Inspection"
   ]
  },
  {
   "cell_type": "code",
   "execution_count": 73,
   "metadata": {},
   "outputs": [
    {
     "data": {
      "text/plain": [
       "Disease                 0\n",
       "Description             0\n",
       "Immediate Action        0\n",
       "Medical Advice          0\n",
       "Dietary Guidance        0\n",
       "Long-term Management    0\n",
       "prepared_text           0\n",
       "dtype: int64"
      ]
     },
     "execution_count": 73,
     "metadata": {},
     "output_type": "execute_result"
    }
   ],
   "source": [
    "df.isna().sum()"
   ]
  },
  {
   "cell_type": "markdown",
   "metadata": {},
   "source": [
    "## Export To CSV"
   ]
  },
  {
   "cell_type": "code",
   "execution_count": 74,
   "metadata": {},
   "outputs": [],
   "source": [
    "df.to_csv('../data/cleaned_data.csv', index=False)"
   ]
  },
  {
   "cell_type": "code",
   "execution_count": null,
   "metadata": {},
   "outputs": [],
   "source": []
  }
 ],
 "metadata": {
  "kernelspec": {
   "display_name": "venv",
   "language": "python",
   "name": "python3"
  },
  "language_info": {
   "codemirror_mode": {
    "name": "ipython",
    "version": 3
   },
   "file_extension": ".py",
   "mimetype": "text/x-python",
   "name": "python",
   "nbconvert_exporter": "python",
   "pygments_lexer": "ipython3",
   "version": "3.10.12"
  }
 },
 "nbformat": 4,
 "nbformat_minor": 2
}
